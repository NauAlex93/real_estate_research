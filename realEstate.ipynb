{
 "cells": [
  {
   "cell_type": "markdown",
   "metadata": {},
   "source": [
    "# Исследование объявлений о продаже квартир\n",
    "\n",
    "В вашем распоряжении данные сервиса Яндекс.Недвижимость — архив объявлений о продаже квартир в Санкт-Петербурге и соседних населённых пунктов за несколько лет. Нужно научиться определять рыночную стоимость объектов недвижимости. Ваша задача — установить параметры. Это позволит построить автоматизированную систему: она отследит аномалии и мошенническую деятельность. \n",
    "\n",
    "По каждой квартире на продажу доступны два вида данных. Первые вписаны пользователем, вторые — получены автоматически на основе картографических данных. Например, расстояние до центра, аэропорта, ближайшего парка и водоёма. "
   ]
  },
  {
   "cell_type": "markdown",
   "metadata": {},
   "source": [
    "## Описание данных:"
   ]
  },
  {
   "cell_type": "markdown",
   "metadata": {},
   "source": [
    "- airports_nearest — расстояние до ближайшего аэропорта в метрах (м)\n",
    "- balcony — число балконов\n",
    "- ceiling_height — высота потолков (м)\n",
    "- cityCenters_nearest — расстояние до центра города (м)\n",
    "- days_exposition — сколько дней было размещено объявление (от публикации до снятия)\n",
    "- first_day_exposition — дата публикации\n",
    "- floor — этаж\n",
    "- floors_total — всего этажей в доме\n",
    "- is_apartment — апартаменты (булев тип)\n",
    "- kitchen_area — площадь кухни в квадратных метрах (м²)\n",
    "- last_price — цена на момент снятия с публикации\n",
    "- living_area — жилая площадь в квадратных метрах(м²)\n",
    "- locality_name — название населённого пункта\n",
    "- open_plan — свободная планировка (булев тип)\n",
    "- parks_around3000 — число парков в радиусе 3 км\n",
    "- parks_nearest — расстояние до ближайшего парка (м)\n",
    "- ponds_around3000 — число водоёмов в радиусе 3 км\n",
    "- ponds_nearest — расстояние до ближайшего водоёма (м)\n",
    "- rooms — число комнат\n",
    "- studio — квартира-студия (булев тип)\n",
    "- total_area — площадь квартиры в квадратных метрах (м²)\n",
    "- total_images — число фотографий квартиры в объявлении\n",
    "\n",
    "Задачи работы:\n",
    "- Научиться определять рыночную стоимость объектов недвижимости на основе данных из архива объявлений о продаже квартир в Санкт-Петербурге и соседних населённых пунктов за несколько лет."
   ]
  },
  {
   "cell_type": "markdown",
   "metadata": {},
   "source": [
    "### Шаг 1. Откройте файл с данными и изучите общую информацию. "
   ]
  },
  {
   "cell_type": "code",
   "execution_count": 1,
   "metadata": {
    "pycharm": {
     "is_executing": false
    }
   },
   "outputs": [],
   "source": [
    "import pandas as pd\n",
    "import numpy as np\n",
    "import matplotlib.pyplot as plt"
   ]
  },
  {
   "cell_type": "code",
   "execution_count": 3,
   "metadata": {
    "pycharm": {
     "is_executing": false
    }
   },
   "outputs": [
    {
     "name": "stdout",
     "output_type": "stream",
     "text": [
      "<class 'pandas.core.frame.DataFrame'>\n",
      "RangeIndex: 23699 entries, 0 to 23698\n",
      "Data columns (total 1 columns):\n",
      "total_images\tlast_price\ttotal_area\tfirst_day_exposition\trooms\tceiling_height\tfloors_total\tliving_area\tfloor\tis_apartment\tstudio\topen_plan\tkitchen_area\tbalcony\tlocality_name\tairports_nearest\tcityCenters_nearest\tparks_around3000\tparks_nearest\tponds_around3000\tponds_nearest\tdays_exposition    23699 non-null object\n",
      "dtypes: object(1)\n",
      "memory usage: 185.3+ KB\n"
     ]
    }
   ],
   "source": [
    "real_estate = pd.read_csv('./real_estate_data.csv')\n",
    "real_estate.info()\n",
    "\n"
   ]
  },
  {
   "cell_type": "markdown",
   "metadata": {},
   "source": [
    "Таблица содержит 23699 строк и 22 столбца, который склеились в один из-за разделителя в виде знака табуляции \\t. Исправим это."
   ]
  },
  {
   "cell_type": "code",
   "execution_count": 4,
   "metadata": {
    "pycharm": {
     "is_executing": false
    }
   },
   "outputs": [
    {
     "name": "stdout",
     "output_type": "stream",
     "text": [
      "<class 'pandas.core.frame.DataFrame'>\n",
      "RangeIndex: 23699 entries, 0 to 23698\n",
      "Data columns (total 22 columns):\n",
      "total_images            23699 non-null int64\n",
      "last_price              23699 non-null float64\n",
      "total_area              23699 non-null float64\n",
      "first_day_exposition    23699 non-null object\n",
      "rooms                   23699 non-null int64\n",
      "ceiling_height          14504 non-null float64\n",
      "floors_total            23613 non-null float64\n",
      "living_area             21796 non-null float64\n",
      "floor                   23699 non-null int64\n",
      "is_apartment            2775 non-null object\n",
      "studio                  23699 non-null bool\n",
      "open_plan               23699 non-null bool\n",
      "kitchen_area            21421 non-null float64\n",
      "balcony                 12180 non-null float64\n",
      "locality_name           23650 non-null object\n",
      "airports_nearest        18157 non-null float64\n",
      "cityCenters_nearest     18180 non-null float64\n",
      "parks_around3000        18181 non-null float64\n",
      "parks_nearest           8079 non-null float64\n",
      "ponds_around3000        18181 non-null float64\n",
      "ponds_nearest           9110 non-null float64\n",
      "days_exposition         20518 non-null float64\n",
      "dtypes: bool(2), float64(14), int64(3), object(3)\n",
      "memory usage: 3.7+ MB\n"
     ]
    },
    {
     "data": {
      "text/html": [
       "<div>\n",
       "<style scoped>\n",
       "    .dataframe tbody tr th:only-of-type {\n",
       "        vertical-align: middle;\n",
       "    }\n",
       "\n",
       "    .dataframe tbody tr th {\n",
       "        vertical-align: top;\n",
       "    }\n",
       "\n",
       "    .dataframe thead th {\n",
       "        text-align: right;\n",
       "    }\n",
       "</style>\n",
       "<table border=\"1\" class=\"dataframe\">\n",
       "  <thead>\n",
       "    <tr style=\"text-align: right;\">\n",
       "      <th></th>\n",
       "      <th>total_images</th>\n",
       "      <th>last_price</th>\n",
       "      <th>total_area</th>\n",
       "      <th>first_day_exposition</th>\n",
       "      <th>rooms</th>\n",
       "      <th>ceiling_height</th>\n",
       "      <th>floors_total</th>\n",
       "      <th>living_area</th>\n",
       "      <th>floor</th>\n",
       "      <th>is_apartment</th>\n",
       "      <th>...</th>\n",
       "      <th>kitchen_area</th>\n",
       "      <th>balcony</th>\n",
       "      <th>locality_name</th>\n",
       "      <th>airports_nearest</th>\n",
       "      <th>cityCenters_nearest</th>\n",
       "      <th>parks_around3000</th>\n",
       "      <th>parks_nearest</th>\n",
       "      <th>ponds_around3000</th>\n",
       "      <th>ponds_nearest</th>\n",
       "      <th>days_exposition</th>\n",
       "    </tr>\n",
       "  </thead>\n",
       "  <tbody>\n",
       "    <tr>\n",
       "      <td>0</td>\n",
       "      <td>20</td>\n",
       "      <td>13000000.0</td>\n",
       "      <td>108.00</td>\n",
       "      <td>2019-03-07T00:00:00</td>\n",
       "      <td>3</td>\n",
       "      <td>2.70</td>\n",
       "      <td>16.0</td>\n",
       "      <td>51.00</td>\n",
       "      <td>8</td>\n",
       "      <td>NaN</td>\n",
       "      <td>...</td>\n",
       "      <td>25.00</td>\n",
       "      <td>NaN</td>\n",
       "      <td>Санкт-Петербург</td>\n",
       "      <td>18863.0</td>\n",
       "      <td>16028.0</td>\n",
       "      <td>1.0</td>\n",
       "      <td>482.0</td>\n",
       "      <td>2.0</td>\n",
       "      <td>755.0</td>\n",
       "      <td>NaN</td>\n",
       "    </tr>\n",
       "    <tr>\n",
       "      <td>1</td>\n",
       "      <td>7</td>\n",
       "      <td>3350000.0</td>\n",
       "      <td>40.40</td>\n",
       "      <td>2018-12-04T00:00:00</td>\n",
       "      <td>1</td>\n",
       "      <td>NaN</td>\n",
       "      <td>11.0</td>\n",
       "      <td>18.60</td>\n",
       "      <td>1</td>\n",
       "      <td>NaN</td>\n",
       "      <td>...</td>\n",
       "      <td>11.00</td>\n",
       "      <td>2.0</td>\n",
       "      <td>посёлок Шушары</td>\n",
       "      <td>12817.0</td>\n",
       "      <td>18603.0</td>\n",
       "      <td>0.0</td>\n",
       "      <td>NaN</td>\n",
       "      <td>0.0</td>\n",
       "      <td>NaN</td>\n",
       "      <td>81.0</td>\n",
       "    </tr>\n",
       "    <tr>\n",
       "      <td>2</td>\n",
       "      <td>10</td>\n",
       "      <td>5196000.0</td>\n",
       "      <td>56.00</td>\n",
       "      <td>2015-08-20T00:00:00</td>\n",
       "      <td>2</td>\n",
       "      <td>NaN</td>\n",
       "      <td>5.0</td>\n",
       "      <td>34.30</td>\n",
       "      <td>4</td>\n",
       "      <td>NaN</td>\n",
       "      <td>...</td>\n",
       "      <td>8.30</td>\n",
       "      <td>0.0</td>\n",
       "      <td>Санкт-Петербург</td>\n",
       "      <td>21741.0</td>\n",
       "      <td>13933.0</td>\n",
       "      <td>1.0</td>\n",
       "      <td>90.0</td>\n",
       "      <td>2.0</td>\n",
       "      <td>574.0</td>\n",
       "      <td>558.0</td>\n",
       "    </tr>\n",
       "    <tr>\n",
       "      <td>3</td>\n",
       "      <td>0</td>\n",
       "      <td>64900000.0</td>\n",
       "      <td>159.00</td>\n",
       "      <td>2015-07-24T00:00:00</td>\n",
       "      <td>3</td>\n",
       "      <td>NaN</td>\n",
       "      <td>14.0</td>\n",
       "      <td>NaN</td>\n",
       "      <td>9</td>\n",
       "      <td>NaN</td>\n",
       "      <td>...</td>\n",
       "      <td>NaN</td>\n",
       "      <td>0.0</td>\n",
       "      <td>Санкт-Петербург</td>\n",
       "      <td>28098.0</td>\n",
       "      <td>6800.0</td>\n",
       "      <td>2.0</td>\n",
       "      <td>84.0</td>\n",
       "      <td>3.0</td>\n",
       "      <td>234.0</td>\n",
       "      <td>424.0</td>\n",
       "    </tr>\n",
       "    <tr>\n",
       "      <td>4</td>\n",
       "      <td>2</td>\n",
       "      <td>10000000.0</td>\n",
       "      <td>100.00</td>\n",
       "      <td>2018-06-19T00:00:00</td>\n",
       "      <td>2</td>\n",
       "      <td>3.03</td>\n",
       "      <td>14.0</td>\n",
       "      <td>32.00</td>\n",
       "      <td>13</td>\n",
       "      <td>NaN</td>\n",
       "      <td>...</td>\n",
       "      <td>41.00</td>\n",
       "      <td>NaN</td>\n",
       "      <td>Санкт-Петербург</td>\n",
       "      <td>31856.0</td>\n",
       "      <td>8098.0</td>\n",
       "      <td>2.0</td>\n",
       "      <td>112.0</td>\n",
       "      <td>1.0</td>\n",
       "      <td>48.0</td>\n",
       "      <td>121.0</td>\n",
       "    </tr>\n",
       "    <tr>\n",
       "      <td>5</td>\n",
       "      <td>10</td>\n",
       "      <td>2890000.0</td>\n",
       "      <td>30.40</td>\n",
       "      <td>2018-09-10T00:00:00</td>\n",
       "      <td>1</td>\n",
       "      <td>NaN</td>\n",
       "      <td>12.0</td>\n",
       "      <td>14.40</td>\n",
       "      <td>5</td>\n",
       "      <td>NaN</td>\n",
       "      <td>...</td>\n",
       "      <td>9.10</td>\n",
       "      <td>NaN</td>\n",
       "      <td>городской посёлок Янино-1</td>\n",
       "      <td>NaN</td>\n",
       "      <td>NaN</td>\n",
       "      <td>NaN</td>\n",
       "      <td>NaN</td>\n",
       "      <td>NaN</td>\n",
       "      <td>NaN</td>\n",
       "      <td>55.0</td>\n",
       "    </tr>\n",
       "    <tr>\n",
       "      <td>6</td>\n",
       "      <td>6</td>\n",
       "      <td>3700000.0</td>\n",
       "      <td>37.30</td>\n",
       "      <td>2017-11-02T00:00:00</td>\n",
       "      <td>1</td>\n",
       "      <td>NaN</td>\n",
       "      <td>26.0</td>\n",
       "      <td>10.60</td>\n",
       "      <td>6</td>\n",
       "      <td>NaN</td>\n",
       "      <td>...</td>\n",
       "      <td>14.40</td>\n",
       "      <td>1.0</td>\n",
       "      <td>посёлок Парголово</td>\n",
       "      <td>52996.0</td>\n",
       "      <td>19143.0</td>\n",
       "      <td>0.0</td>\n",
       "      <td>NaN</td>\n",
       "      <td>0.0</td>\n",
       "      <td>NaN</td>\n",
       "      <td>155.0</td>\n",
       "    </tr>\n",
       "    <tr>\n",
       "      <td>7</td>\n",
       "      <td>5</td>\n",
       "      <td>7915000.0</td>\n",
       "      <td>71.60</td>\n",
       "      <td>2019-04-18T00:00:00</td>\n",
       "      <td>2</td>\n",
       "      <td>NaN</td>\n",
       "      <td>24.0</td>\n",
       "      <td>NaN</td>\n",
       "      <td>22</td>\n",
       "      <td>NaN</td>\n",
       "      <td>...</td>\n",
       "      <td>18.90</td>\n",
       "      <td>2.0</td>\n",
       "      <td>Санкт-Петербург</td>\n",
       "      <td>23982.0</td>\n",
       "      <td>11634.0</td>\n",
       "      <td>0.0</td>\n",
       "      <td>NaN</td>\n",
       "      <td>0.0</td>\n",
       "      <td>NaN</td>\n",
       "      <td>NaN</td>\n",
       "    </tr>\n",
       "    <tr>\n",
       "      <td>8</td>\n",
       "      <td>20</td>\n",
       "      <td>2900000.0</td>\n",
       "      <td>33.16</td>\n",
       "      <td>2018-05-23T00:00:00</td>\n",
       "      <td>1</td>\n",
       "      <td>NaN</td>\n",
       "      <td>27.0</td>\n",
       "      <td>15.43</td>\n",
       "      <td>26</td>\n",
       "      <td>NaN</td>\n",
       "      <td>...</td>\n",
       "      <td>8.81</td>\n",
       "      <td>NaN</td>\n",
       "      <td>посёлок Мурино</td>\n",
       "      <td>NaN</td>\n",
       "      <td>NaN</td>\n",
       "      <td>NaN</td>\n",
       "      <td>NaN</td>\n",
       "      <td>NaN</td>\n",
       "      <td>NaN</td>\n",
       "      <td>189.0</td>\n",
       "    </tr>\n",
       "    <tr>\n",
       "      <td>9</td>\n",
       "      <td>18</td>\n",
       "      <td>5400000.0</td>\n",
       "      <td>61.00</td>\n",
       "      <td>2017-02-26T00:00:00</td>\n",
       "      <td>3</td>\n",
       "      <td>2.50</td>\n",
       "      <td>9.0</td>\n",
       "      <td>43.60</td>\n",
       "      <td>7</td>\n",
       "      <td>NaN</td>\n",
       "      <td>...</td>\n",
       "      <td>6.50</td>\n",
       "      <td>2.0</td>\n",
       "      <td>Санкт-Петербург</td>\n",
       "      <td>50898.0</td>\n",
       "      <td>15008.0</td>\n",
       "      <td>0.0</td>\n",
       "      <td>NaN</td>\n",
       "      <td>0.0</td>\n",
       "      <td>NaN</td>\n",
       "      <td>289.0</td>\n",
       "    </tr>\n",
       "    <tr>\n",
       "      <td>10</td>\n",
       "      <td>5</td>\n",
       "      <td>5050000.0</td>\n",
       "      <td>39.60</td>\n",
       "      <td>2017-11-16T00:00:00</td>\n",
       "      <td>1</td>\n",
       "      <td>2.67</td>\n",
       "      <td>12.0</td>\n",
       "      <td>20.30</td>\n",
       "      <td>3</td>\n",
       "      <td>NaN</td>\n",
       "      <td>...</td>\n",
       "      <td>8.50</td>\n",
       "      <td>NaN</td>\n",
       "      <td>Санкт-Петербург</td>\n",
       "      <td>38357.0</td>\n",
       "      <td>13878.0</td>\n",
       "      <td>1.0</td>\n",
       "      <td>310.0</td>\n",
       "      <td>2.0</td>\n",
       "      <td>553.0</td>\n",
       "      <td>137.0</td>\n",
       "    </tr>\n",
       "    <tr>\n",
       "      <td>11</td>\n",
       "      <td>9</td>\n",
       "      <td>3300000.0</td>\n",
       "      <td>44.00</td>\n",
       "      <td>2018-08-27T00:00:00</td>\n",
       "      <td>2</td>\n",
       "      <td>NaN</td>\n",
       "      <td>5.0</td>\n",
       "      <td>31.00</td>\n",
       "      <td>4</td>\n",
       "      <td>False</td>\n",
       "      <td>...</td>\n",
       "      <td>6.00</td>\n",
       "      <td>1.0</td>\n",
       "      <td>Ломоносов</td>\n",
       "      <td>48252.0</td>\n",
       "      <td>51677.0</td>\n",
       "      <td>0.0</td>\n",
       "      <td>NaN</td>\n",
       "      <td>0.0</td>\n",
       "      <td>NaN</td>\n",
       "      <td>7.0</td>\n",
       "    </tr>\n",
       "    <tr>\n",
       "      <td>12</td>\n",
       "      <td>10</td>\n",
       "      <td>3890000.0</td>\n",
       "      <td>54.00</td>\n",
       "      <td>2016-06-30T00:00:00</td>\n",
       "      <td>2</td>\n",
       "      <td>NaN</td>\n",
       "      <td>5.0</td>\n",
       "      <td>30.00</td>\n",
       "      <td>5</td>\n",
       "      <td>NaN</td>\n",
       "      <td>...</td>\n",
       "      <td>9.00</td>\n",
       "      <td>0.0</td>\n",
       "      <td>Сертолово</td>\n",
       "      <td>NaN</td>\n",
       "      <td>NaN</td>\n",
       "      <td>NaN</td>\n",
       "      <td>NaN</td>\n",
       "      <td>NaN</td>\n",
       "      <td>NaN</td>\n",
       "      <td>90.0</td>\n",
       "    </tr>\n",
       "    <tr>\n",
       "      <td>13</td>\n",
       "      <td>20</td>\n",
       "      <td>3550000.0</td>\n",
       "      <td>42.80</td>\n",
       "      <td>2017-07-01T00:00:00</td>\n",
       "      <td>2</td>\n",
       "      <td>2.56</td>\n",
       "      <td>5.0</td>\n",
       "      <td>27.00</td>\n",
       "      <td>5</td>\n",
       "      <td>NaN</td>\n",
       "      <td>...</td>\n",
       "      <td>5.20</td>\n",
       "      <td>1.0</td>\n",
       "      <td>Петергоф</td>\n",
       "      <td>37868.0</td>\n",
       "      <td>33058.0</td>\n",
       "      <td>1.0</td>\n",
       "      <td>294.0</td>\n",
       "      <td>3.0</td>\n",
       "      <td>298.0</td>\n",
       "      <td>366.0</td>\n",
       "    </tr>\n",
       "    <tr>\n",
       "      <td>14</td>\n",
       "      <td>1</td>\n",
       "      <td>4400000.0</td>\n",
       "      <td>36.00</td>\n",
       "      <td>2016-06-23T00:00:00</td>\n",
       "      <td>1</td>\n",
       "      <td>NaN</td>\n",
       "      <td>6.0</td>\n",
       "      <td>17.00</td>\n",
       "      <td>1</td>\n",
       "      <td>NaN</td>\n",
       "      <td>...</td>\n",
       "      <td>8.00</td>\n",
       "      <td>0.0</td>\n",
       "      <td>Пушкин</td>\n",
       "      <td>20782.0</td>\n",
       "      <td>30759.0</td>\n",
       "      <td>0.0</td>\n",
       "      <td>NaN</td>\n",
       "      <td>1.0</td>\n",
       "      <td>96.0</td>\n",
       "      <td>203.0</td>\n",
       "    </tr>\n",
       "  </tbody>\n",
       "</table>\n",
       "<p>15 rows × 22 columns</p>\n",
       "</div>"
      ],
      "text/plain": [
       "    total_images  last_price  total_area first_day_exposition  rooms  \\\n",
       "0             20  13000000.0      108.00  2019-03-07T00:00:00      3   \n",
       "1              7   3350000.0       40.40  2018-12-04T00:00:00      1   \n",
       "2             10   5196000.0       56.00  2015-08-20T00:00:00      2   \n",
       "3              0  64900000.0      159.00  2015-07-24T00:00:00      3   \n",
       "4              2  10000000.0      100.00  2018-06-19T00:00:00      2   \n",
       "5             10   2890000.0       30.40  2018-09-10T00:00:00      1   \n",
       "6              6   3700000.0       37.30  2017-11-02T00:00:00      1   \n",
       "7              5   7915000.0       71.60  2019-04-18T00:00:00      2   \n",
       "8             20   2900000.0       33.16  2018-05-23T00:00:00      1   \n",
       "9             18   5400000.0       61.00  2017-02-26T00:00:00      3   \n",
       "10             5   5050000.0       39.60  2017-11-16T00:00:00      1   \n",
       "11             9   3300000.0       44.00  2018-08-27T00:00:00      2   \n",
       "12            10   3890000.0       54.00  2016-06-30T00:00:00      2   \n",
       "13            20   3550000.0       42.80  2017-07-01T00:00:00      2   \n",
       "14             1   4400000.0       36.00  2016-06-23T00:00:00      1   \n",
       "\n",
       "    ceiling_height  floors_total  living_area  floor is_apartment  ...  \\\n",
       "0             2.70          16.0        51.00      8          NaN  ...   \n",
       "1              NaN          11.0        18.60      1          NaN  ...   \n",
       "2              NaN           5.0        34.30      4          NaN  ...   \n",
       "3              NaN          14.0          NaN      9          NaN  ...   \n",
       "4             3.03          14.0        32.00     13          NaN  ...   \n",
       "5              NaN          12.0        14.40      5          NaN  ...   \n",
       "6              NaN          26.0        10.60      6          NaN  ...   \n",
       "7              NaN          24.0          NaN     22          NaN  ...   \n",
       "8              NaN          27.0        15.43     26          NaN  ...   \n",
       "9             2.50           9.0        43.60      7          NaN  ...   \n",
       "10            2.67          12.0        20.30      3          NaN  ...   \n",
       "11             NaN           5.0        31.00      4        False  ...   \n",
       "12             NaN           5.0        30.00      5          NaN  ...   \n",
       "13            2.56           5.0        27.00      5          NaN  ...   \n",
       "14             NaN           6.0        17.00      1          NaN  ...   \n",
       "\n",
       "    kitchen_area  balcony              locality_name  airports_nearest  \\\n",
       "0          25.00      NaN            Санкт-Петербург           18863.0   \n",
       "1          11.00      2.0             посёлок Шушары           12817.0   \n",
       "2           8.30      0.0            Санкт-Петербург           21741.0   \n",
       "3            NaN      0.0            Санкт-Петербург           28098.0   \n",
       "4          41.00      NaN            Санкт-Петербург           31856.0   \n",
       "5           9.10      NaN  городской посёлок Янино-1               NaN   \n",
       "6          14.40      1.0          посёлок Парголово           52996.0   \n",
       "7          18.90      2.0            Санкт-Петербург           23982.0   \n",
       "8           8.81      NaN             посёлок Мурино               NaN   \n",
       "9           6.50      2.0            Санкт-Петербург           50898.0   \n",
       "10          8.50      NaN            Санкт-Петербург           38357.0   \n",
       "11          6.00      1.0                  Ломоносов           48252.0   \n",
       "12          9.00      0.0                  Сертолово               NaN   \n",
       "13          5.20      1.0                   Петергоф           37868.0   \n",
       "14          8.00      0.0                     Пушкин           20782.0   \n",
       "\n",
       "   cityCenters_nearest  parks_around3000  parks_nearest  ponds_around3000  \\\n",
       "0              16028.0               1.0          482.0               2.0   \n",
       "1              18603.0               0.0            NaN               0.0   \n",
       "2              13933.0               1.0           90.0               2.0   \n",
       "3               6800.0               2.0           84.0               3.0   \n",
       "4               8098.0               2.0          112.0               1.0   \n",
       "5                  NaN               NaN            NaN               NaN   \n",
       "6              19143.0               0.0            NaN               0.0   \n",
       "7              11634.0               0.0            NaN               0.0   \n",
       "8                  NaN               NaN            NaN               NaN   \n",
       "9              15008.0               0.0            NaN               0.0   \n",
       "10             13878.0               1.0          310.0               2.0   \n",
       "11             51677.0               0.0            NaN               0.0   \n",
       "12                 NaN               NaN            NaN               NaN   \n",
       "13             33058.0               1.0          294.0               3.0   \n",
       "14             30759.0               0.0            NaN               1.0   \n",
       "\n",
       "    ponds_nearest  days_exposition  \n",
       "0           755.0              NaN  \n",
       "1             NaN             81.0  \n",
       "2           574.0            558.0  \n",
       "3           234.0            424.0  \n",
       "4            48.0            121.0  \n",
       "5             NaN             55.0  \n",
       "6             NaN            155.0  \n",
       "7             NaN              NaN  \n",
       "8             NaN            189.0  \n",
       "9             NaN            289.0  \n",
       "10          553.0            137.0  \n",
       "11            NaN              7.0  \n",
       "12            NaN             90.0  \n",
       "13          298.0            366.0  \n",
       "14           96.0            203.0  \n",
       "\n",
       "[15 rows x 22 columns]"
      ]
     },
     "execution_count": 4,
     "metadata": {},
     "output_type": "execute_result"
    }
   ],
   "source": [
    "real_estate = pd.read_csv('/datasets/real_estate_data.csv', sep='\\t')\n",
    "real_estate.info()\n",
    "real_estate.head(15)"
   ]
  },
  {
   "cell_type": "markdown",
   "metadata": {},
   "source": [
    "### Вывод"
   ]
  },
  {
   "cell_type": "markdown",
   "metadata": {},
   "source": [
    "Теперь можно работать с датасетом. \n",
    "Первое, что бросается в глаза - всего 2775 non-null значений в столбце is_apartment, \n",
    "который к тому же не bool, а object. Здесь придется усердно восполнять пропуски.\n",
    "Следующие колонки нужно привести к типу int: balcony, floors_total, days_exposition, \n",
    "parks_around3000, ponds_around3000."
   ]
  },
  {
   "cell_type": "markdown",
   "metadata": {},
   "source": [
    "### Шаг 2. Предобработка данных"
   ]
  },
  {
   "cell_type": "markdown",
   "metadata": {},
   "source": [
    "В столбце balcony меняем все пропуски на 0, так как если не указали количество балконов, то считаем, что их нет.\n",
    "Так же приводим тип колонки к int64."
   ]
  },
  {
   "cell_type": "code",
   "execution_count": 5,
   "metadata": {
    "pycharm": {
     "is_executing": false
    }
   },
   "outputs": [
    {
     "data": {
      "text/plain": [
       "0    15277\n",
       "1     4195\n",
       "2     3659\n",
       "5      304\n",
       "4      183\n",
       "3       81\n",
       "Name: balcony, dtype: int64"
      ]
     },
     "execution_count": 5,
     "metadata": {},
     "output_type": "execute_result"
    }
   ],
   "source": [
    "real_estate['balcony'] = real_estate['balcony'].fillna(0)\n",
    "real_estate['balcony'] = real_estate['balcony'].astype(int)\n",
    "real_estate['balcony'].value_counts()"
   ]
  },
  {
   "cell_type": "markdown",
   "metadata": {
    "pycharm": {
     "name": "#%% md\n"
    }
   },
   "source": [
    "Теперь видно, что большинство квартир (15277) без балконов.\n",
    "Заменим пропуски в ceiling_height на медианное значение (2.65)"
   ]
  },
  {
   "cell_type": "code",
   "execution_count": 6,
   "metadata": {
    "pycharm": {
     "is_executing": false,
     "name": "#%%\n"
    }
   },
   "outputs": [
    {
     "data": {
      "text/plain": [
       "2.65      9871\n",
       "2.50      3515\n",
       "2.60      1646\n",
       "2.70      1574\n",
       "3.00      1112\n",
       "          ... \n",
       "3.98         1\n",
       "4.65         1\n",
       "5.80         1\n",
       "4.90         1\n",
       "100.00       1\n",
       "Name: ceiling_height, Length: 183, dtype: int64"
      ]
     },
     "execution_count": 6,
     "metadata": {},
     "output_type": "execute_result"
    }
   ],
   "source": [
    "real_estate['ceiling_height'] = real_estate['ceiling_height'].fillna(real_estate['ceiling_height'].median())\n",
    "real_estate['ceiling_height'].value_counts()"
   ]
  },
  {
   "cell_type": "markdown",
   "metadata": {
    "pycharm": {
     "name": "#%% md\n"
    }
   },
   "source": [
    "Пропуски в колонке с общим количеством этажей можно заменить на 1 - предположим, что это одноэтажные частные дома."
   ]
  },
  {
   "cell_type": "code",
   "execution_count": 7,
   "metadata": {
    "pycharm": {
     "is_executing": false,
     "name": "#%%\n"
    }
   },
   "outputs": [],
   "source": [
    "real_estate['floors_total'] = real_estate['floors_total'].fillna(1)"
   ]
  },
  {
   "cell_type": "markdown",
   "metadata": {
    "pycharm": {
     "name": "#%% md\n"
    }
   },
   "source": [
    "Пропуски в living_area и days_exposition заполним медианными значениями."
   ]
  },
  {
   "cell_type": "code",
   "execution_count": 8,
   "metadata": {
    "pycharm": {
     "is_executing": false,
     "name": "#%%\n"
    }
   },
   "outputs": [
    {
     "name": "stdout",
     "output_type": "stream",
     "text": [
      "30.00    2501\n",
      "18.00     882\n",
      "17.00     675\n",
      "16.00     486\n",
      "20.00     481\n",
      "         ... \n",
      "16.04       1\n",
      "10.55       1\n",
      "24.83       1\n",
      "20.03       1\n",
      "15.55       1\n",
      "Name: living_area, Length: 1782, dtype: int64\n"
     ]
    }
   ],
   "source": [
    "real_estate['living_area'] = real_estate['living_area'].fillna(real_estate['living_area'].median())\n",
    "print(real_estate['living_area'].value_counts())"
   ]
  },
  {
   "cell_type": "code",
   "execution_count": 9,
   "metadata": {
    "pycharm": {
     "is_executing": false,
     "name": "#%%\n"
    }
   },
   "outputs": [
    {
     "name": "stdout",
     "output_type": "stream",
     "text": [
      "95.0      3245\n",
      "45.0       880\n",
      "60.0       538\n",
      "7.0        234\n",
      "30.0       208\n",
      "          ... \n",
      "1110.0       1\n",
      "1135.0       1\n",
      "951.0        1\n",
      "693.0        1\n",
      "773.0        1\n",
      "Name: days_exposition, Length: 1141, dtype: int64\n"
     ]
    }
   ],
   "source": [
    "real_estate['days_exposition'] = real_estate['days_exposition'].fillna(real_estate['days_exposition'].median())\n",
    "print(real_estate['days_exposition'].value_counts())"
   ]
  },
  {
   "cell_type": "markdown",
   "metadata": {
    "pycharm": {
     "name": "#%% md\n"
    }
   },
   "source": [
    "Заполним пропуски в kitchen_area как разницу между total_area и living_area."
   ]
  },
  {
   "cell_type": "code",
   "execution_count": 10,
   "metadata": {
    "pycharm": {
     "is_executing": false,
     "name": "#%%\n"
    }
   },
   "outputs": [
    {
     "name": "stdout",
     "output_type": "stream",
     "text": [
      "6.00     1330\n",
      "10.00    1313\n",
      "8.00     1148\n",
      "9.00     1142\n",
      "7.00     1096\n",
      "         ... \n",
      "19.26       1\n",
      "63.20       1\n",
      "10.96       1\n",
      "13.29       1\n",
      "7.55        1\n",
      "Name: kitchen_area, Length: 1537, dtype: int64\n"
     ]
    }
   ],
   "source": [
    "real_estate['kitchen_area'] = real_estate.apply(\n",
    "    lambda row: row['total_area'] - row['living_area'] if np.isnan(row['kitchen_area']) else row['kitchen_area'],\n",
    "    axis=1\n",
    ")\n",
    "print(real_estate['kitchen_area'].value_counts())"
   ]
  },
  {
   "cell_type": "markdown",
   "metadata": {
    "pycharm": {
     "name": "#%% md\n"
    }
   },
   "source": [
    "Для заполнения пропусков в airports_nearest и cityCenters_nearest используем медианные значения\n",
    "по срезу данных для населенных пунктов."
   ]
  },
  {
   "cell_type": "code",
   "execution_count": 12,
   "metadata": {
    "pycharm": {
     "is_executing": false,
     "name": "#%%\n"
    }
   },
   "outputs": [
    {
     "name": "stdout",
     "output_type": "stream",
     "text": [
      "                         airports_nearest  cityCenters_nearest\n",
      "locality_name                                                 \n",
      "Зеленогорск                       72282.0              53381.0\n",
      "Колпино                           26232.0              32018.0\n",
      "Красное Село                      25715.5              29140.5\n",
      "Кронштадт                         67850.0              49575.0\n",
      "Ломоносов                         48415.5              51677.0\n",
      "Павловск                          20529.5              32683.0\n",
      "Петергоф                          39231.0              33771.0\n",
      "Пушкин                            15766.0              27930.5\n",
      "Санкт-Петербург                   26757.5              12244.5\n",
      "Сестрорецк                        56692.0              34821.0\n",
      "поселок Лисий Нос                 55930.0              28246.0\n",
      "поселок Мурино                    51553.0              21888.0\n",
      "посёлок Александровская           12896.5              27468.0\n",
      "посёлок Белоостров                57769.0              38868.0\n",
      "посёлок Левашово                  52693.0              25727.0\n",
      "посёлок Лисий Нос                 54988.5              27297.0\n",
      "посёлок Металлострой              25758.0              27602.0\n",
      "посёлок Молодёжное                84665.0              65764.0\n",
      "посёлок Парголово                 53426.0              19311.0\n",
      "посёлок Песочный                  54831.5              26099.5\n",
      "посёлок Петро-Славянка            20605.0              27165.0\n",
      "посёлок Понтонный                 30642.0              32354.0\n",
      "посёлок Репино                    61797.5              42896.5\n",
      "посёлок Сапёрный                  34147.5              35859.5\n",
      "посёлок Стрельна                  28317.0              23506.0\n",
      "посёлок Усть-Ижора                26510.5              28222.5\n",
      "посёлок Шушары                    17427.0              24212.0\n",
      "посёлок Щеглово                   61908.0              34085.0\n",
      "5394\n"
     ]
    }
   ],
   "source": [
    "median_distance = real_estate.pivot_table(\n",
    "    index='locality_name',\n",
    "    values=['airports_nearest', 'cityCenters_nearest'],\n",
    "    aggfunc='median'\n",
    ")\n",
    "\n",
    "print(median_distance)\n",
    "\n",
    "localities = list(median_distance.index)\n",
    "\n",
    "def fill_missing_data(row, col):\n",
    "    locality = row['locality_name']\n",
    "    \n",
    "    if locality in localities:\n",
    "        return median_distance.loc[locality][col]\n",
    "    \n",
    "    return row[col]\n",
    "\n",
    "columns = ['airports_nearest', 'cityCenters_nearest']\n",
    "\n",
    "for column in columns:\n",
    "    real_estate.loc[real_estate[column].isnull(), column] = real_estate.apply(fill_missing_data, axis=1, args=(column,))\n",
    "print(real_estate['cityCenters_nearest'].isna().sum())"
   ]
  },
  {
   "cell_type": "markdown",
   "metadata": {
    "pycharm": {
     "name": "#%% md\n"
    }
   },
   "source": [
    "Как видно, остались незаполненные данные, это значит, что для некоторых квартир не было информации\n",
    "по удаленности от центра города и ближайших аэропортов."
   ]
  },
  {
   "cell_type": "code",
   "execution_count": 11,
   "metadata": {
    "pycharm": {
     "is_executing": false,
     "name": "#%%\n"
    }
   },
   "outputs": [
    {
     "data": {
      "text/plain": [
       "0"
      ]
     },
     "execution_count": 11,
     "metadata": {},
     "output_type": "execute_result"
    }
   ],
   "source": [
    "real_estate.duplicated().sum()"
   ]
  },
  {
   "cell_type": "markdown",
   "metadata": {
    "pycharm": {
     "name": "#%% md\n"
    }
   },
   "source": [
    "После замены пропусков видим, что дубликатов в данных нет.\n",
    "Осталось поменять тип данных у колонок floors_total, days_exposition."
   ]
  },
  {
   "cell_type": "code",
   "execution_count": 12,
   "metadata": {
    "pycharm": {
     "is_executing": false,
     "name": "#%%\n"
    }
   },
   "outputs": [],
   "source": [
    "for column in ['floors_total', 'days_exposition']:\n",
    "    real_estate[column] = real_estate[column].astype('int')"
   ]
  },
  {
   "cell_type": "markdown",
   "metadata": {},
   "source": [
    "### Шаг 3. Посчитайте и добавьте в таблицу"
   ]
  },
  {
   "cell_type": "markdown",
   "metadata": {
    "pycharm": {
     "is_executing": false,
     "name": "#%% md\n"
    }
   },
   "source": [
    "- Цена квадратного метра:"
   ]
  },
  {
   "cell_type": "code",
   "execution_count": 13,
   "metadata": {
    "pycharm": {
     "is_executing": false,
     "name": "#%%\n"
    }
   },
   "outputs": [
    {
     "data": {
      "text/plain": [
       "100000.000000    259\n",
       "83333.333333      64\n",
       "75000.000000      59\n",
       "80000.000000      52\n",
       "125000.000000     51\n",
       "                ... \n",
       "141538.461538      1\n",
       "124401.913876      1\n",
       "125000.000000      1\n",
       "100484.261501      1\n",
       "62111.801242       1\n",
       "Name: square_meter_price, Length: 14971, dtype: int64"
      ]
     },
     "execution_count": 13,
     "metadata": {},
     "output_type": "execute_result"
    }
   ],
   "source": [
    "real_estate['square_meter_price'] = real_estate['last_price'] / real_estate['total_area']\n",
    "real_estate['square_meter_price'].value_counts()"
   ]
  },
  {
   "cell_type": "markdown",
   "metadata": {
    "pycharm": {
     "name": "#%% md\n"
    }
   },
   "source": [
    "- День недели, месяц и год публикации объявления"
   ]
  },
  {
   "cell_type": "code",
   "execution_count": 14,
   "metadata": {
    "pycharm": {
     "is_executing": false,
     "name": "#%%\n"
    }
   },
   "outputs": [],
   "source": [
    "# Преобразуем данные в first_day_exposition, избавимся от времени размещения объявления, оставим только дату\n",
    "real_estate['first_day_exposition'] = pd.to_datetime(real_estate['first_day_exposition'], format='%Y-%m-%d')\n",
    "\n",
    "real_estate['day_of_exposition'] = real_estate['first_day_exposition'].dt.dayofweek\n",
    "real_estate['month_of_exposition'] = real_estate['first_day_exposition'].dt.month\n",
    "real_estate['year_of_exposition'] = real_estate['first_day_exposition'].dt.year"
   ]
  },
  {
   "cell_type": "markdown",
   "metadata": {
    "pycharm": {
     "name": "#%% md\n"
    }
   },
   "source": [
    "- Этаж квартиры"
   ]
  },
  {
   "cell_type": "code",
   "execution_count": 15,
   "metadata": {
    "pycharm": {
     "is_executing": false,
     "name": "#%%\n"
    }
   },
   "outputs": [
    {
     "data": {
      "text/plain": [
       "другой       17446\n",
       "последний     3336\n",
       "первый        2917\n",
       "Name: floor, dtype: int64"
      ]
     },
     "execution_count": 15,
     "metadata": {},
     "output_type": "execute_result"
    }
   ],
   "source": [
    "def group_by_floor(row):\n",
    "    if row['floor'] == 1:\n",
    "        return 'первый'\n",
    "    elif row['floor'] == row['floors_total']:\n",
    "        return 'последний'\n",
    "    else:\n",
    "        return 'другой'\n",
    "    \n",
    "real_estate['floor'] = real_estate.apply(group_by_floor, axis=1)\n",
    "real_estate['floor'].value_counts()"
   ]
  },
  {
   "cell_type": "markdown",
   "metadata": {
    "pycharm": {
     "name": "#%% md\n"
    }
   },
   "source": [
    "- Cоотношение жилой и общей площади, а также отношение площади кухни к общей."
   ]
  },
  {
   "cell_type": "code",
   "execution_count": 16,
   "metadata": {
    "pycharm": {
     "is_executing": false,
     "name": "#%%\n"
    }
   },
   "outputs": [
    {
     "data": {
      "text/html": [
       "<div>\n",
       "<style scoped>\n",
       "    .dataframe tbody tr th:only-of-type {\n",
       "        vertical-align: middle;\n",
       "    }\n",
       "\n",
       "    .dataframe tbody tr th {\n",
       "        vertical-align: top;\n",
       "    }\n",
       "\n",
       "    .dataframe thead th {\n",
       "        text-align: right;\n",
       "    }\n",
       "</style>\n",
       "<table border=\"1\" class=\"dataframe\">\n",
       "  <thead>\n",
       "    <tr style=\"text-align: right;\">\n",
       "      <th></th>\n",
       "      <th>total_images</th>\n",
       "      <th>last_price</th>\n",
       "      <th>total_area</th>\n",
       "      <th>first_day_exposition</th>\n",
       "      <th>rooms</th>\n",
       "      <th>ceiling_height</th>\n",
       "      <th>floors_total</th>\n",
       "      <th>living_area</th>\n",
       "      <th>floor</th>\n",
       "      <th>is_apartment</th>\n",
       "      <th>...</th>\n",
       "      <th>parks_nearest</th>\n",
       "      <th>ponds_around3000</th>\n",
       "      <th>ponds_nearest</th>\n",
       "      <th>days_exposition</th>\n",
       "      <th>square_meter_price</th>\n",
       "      <th>day_of_exposition</th>\n",
       "      <th>month_of_exposition</th>\n",
       "      <th>year_of_exposition</th>\n",
       "      <th>living_total_areas_ratio</th>\n",
       "      <th>kitchen_total_areas_ratio</th>\n",
       "    </tr>\n",
       "  </thead>\n",
       "  <tbody>\n",
       "    <tr>\n",
       "      <td>0</td>\n",
       "      <td>20</td>\n",
       "      <td>13000000.0</td>\n",
       "      <td>108.0</td>\n",
       "      <td>2019-03-07</td>\n",
       "      <td>3</td>\n",
       "      <td>2.70</td>\n",
       "      <td>16</td>\n",
       "      <td>51.0</td>\n",
       "      <td>другой</td>\n",
       "      <td>NaN</td>\n",
       "      <td>...</td>\n",
       "      <td>482.0</td>\n",
       "      <td>2.0</td>\n",
       "      <td>755.0</td>\n",
       "      <td>95</td>\n",
       "      <td>120370.370370</td>\n",
       "      <td>3</td>\n",
       "      <td>3</td>\n",
       "      <td>2019</td>\n",
       "      <td>0.472222</td>\n",
       "      <td>0.231481</td>\n",
       "    </tr>\n",
       "    <tr>\n",
       "      <td>1</td>\n",
       "      <td>7</td>\n",
       "      <td>3350000.0</td>\n",
       "      <td>40.4</td>\n",
       "      <td>2018-12-04</td>\n",
       "      <td>1</td>\n",
       "      <td>2.65</td>\n",
       "      <td>11</td>\n",
       "      <td>18.6</td>\n",
       "      <td>первый</td>\n",
       "      <td>NaN</td>\n",
       "      <td>...</td>\n",
       "      <td>NaN</td>\n",
       "      <td>0.0</td>\n",
       "      <td>NaN</td>\n",
       "      <td>81</td>\n",
       "      <td>82920.792079</td>\n",
       "      <td>1</td>\n",
       "      <td>12</td>\n",
       "      <td>2018</td>\n",
       "      <td>0.460396</td>\n",
       "      <td>0.272277</td>\n",
       "    </tr>\n",
       "    <tr>\n",
       "      <td>2</td>\n",
       "      <td>10</td>\n",
       "      <td>5196000.0</td>\n",
       "      <td>56.0</td>\n",
       "      <td>2015-08-20</td>\n",
       "      <td>2</td>\n",
       "      <td>2.65</td>\n",
       "      <td>5</td>\n",
       "      <td>34.3</td>\n",
       "      <td>другой</td>\n",
       "      <td>NaN</td>\n",
       "      <td>...</td>\n",
       "      <td>90.0</td>\n",
       "      <td>2.0</td>\n",
       "      <td>574.0</td>\n",
       "      <td>558</td>\n",
       "      <td>92785.714286</td>\n",
       "      <td>3</td>\n",
       "      <td>8</td>\n",
       "      <td>2015</td>\n",
       "      <td>0.612500</td>\n",
       "      <td>0.148214</td>\n",
       "    </tr>\n",
       "    <tr>\n",
       "      <td>3</td>\n",
       "      <td>0</td>\n",
       "      <td>64900000.0</td>\n",
       "      <td>159.0</td>\n",
       "      <td>2015-07-24</td>\n",
       "      <td>3</td>\n",
       "      <td>2.65</td>\n",
       "      <td>14</td>\n",
       "      <td>30.0</td>\n",
       "      <td>другой</td>\n",
       "      <td>NaN</td>\n",
       "      <td>...</td>\n",
       "      <td>84.0</td>\n",
       "      <td>3.0</td>\n",
       "      <td>234.0</td>\n",
       "      <td>424</td>\n",
       "      <td>408176.100629</td>\n",
       "      <td>4</td>\n",
       "      <td>7</td>\n",
       "      <td>2015</td>\n",
       "      <td>0.188679</td>\n",
       "      <td>0.811321</td>\n",
       "    </tr>\n",
       "    <tr>\n",
       "      <td>4</td>\n",
       "      <td>2</td>\n",
       "      <td>10000000.0</td>\n",
       "      <td>100.0</td>\n",
       "      <td>2018-06-19</td>\n",
       "      <td>2</td>\n",
       "      <td>3.03</td>\n",
       "      <td>14</td>\n",
       "      <td>32.0</td>\n",
       "      <td>другой</td>\n",
       "      <td>NaN</td>\n",
       "      <td>...</td>\n",
       "      <td>112.0</td>\n",
       "      <td>1.0</td>\n",
       "      <td>48.0</td>\n",
       "      <td>121</td>\n",
       "      <td>100000.000000</td>\n",
       "      <td>1</td>\n",
       "      <td>6</td>\n",
       "      <td>2018</td>\n",
       "      <td>0.320000</td>\n",
       "      <td>0.410000</td>\n",
       "    </tr>\n",
       "  </tbody>\n",
       "</table>\n",
       "<p>5 rows × 28 columns</p>\n",
       "</div>"
      ],
      "text/plain": [
       "   total_images  last_price  total_area first_day_exposition  rooms  \\\n",
       "0            20  13000000.0       108.0           2019-03-07      3   \n",
       "1             7   3350000.0        40.4           2018-12-04      1   \n",
       "2            10   5196000.0        56.0           2015-08-20      2   \n",
       "3             0  64900000.0       159.0           2015-07-24      3   \n",
       "4             2  10000000.0       100.0           2018-06-19      2   \n",
       "\n",
       "   ceiling_height  floors_total  living_area   floor is_apartment  ...  \\\n",
       "0            2.70            16         51.0  другой          NaN  ...   \n",
       "1            2.65            11         18.6  первый          NaN  ...   \n",
       "2            2.65             5         34.3  другой          NaN  ...   \n",
       "3            2.65            14         30.0  другой          NaN  ...   \n",
       "4            3.03            14         32.0  другой          NaN  ...   \n",
       "\n",
       "   parks_nearest  ponds_around3000  ponds_nearest  days_exposition  \\\n",
       "0          482.0               2.0          755.0               95   \n",
       "1            NaN               0.0            NaN               81   \n",
       "2           90.0               2.0          574.0              558   \n",
       "3           84.0               3.0          234.0              424   \n",
       "4          112.0               1.0           48.0              121   \n",
       "\n",
       "  square_meter_price  day_of_exposition  month_of_exposition  \\\n",
       "0      120370.370370                  3                    3   \n",
       "1       82920.792079                  1                   12   \n",
       "2       92785.714286                  3                    8   \n",
       "3      408176.100629                  4                    7   \n",
       "4      100000.000000                  1                    6   \n",
       "\n",
       "   year_of_exposition  living_total_areas_ratio  kitchen_total_areas_ratio  \n",
       "0                2019                  0.472222                   0.231481  \n",
       "1                2018                  0.460396                   0.272277  \n",
       "2                2015                  0.612500                   0.148214  \n",
       "3                2015                  0.188679                   0.811321  \n",
       "4                2018                  0.320000                   0.410000  \n",
       "\n",
       "[5 rows x 28 columns]"
      ]
     },
     "execution_count": 16,
     "metadata": {},
     "output_type": "execute_result"
    }
   ],
   "source": [
    "real_estate['living_total_areas_ratio'] = real_estate['living_area'] / real_estate['total_area']\n",
    "real_estate['kitchen_total_areas_ratio'] = real_estate['kitchen_area'] / real_estate['total_area']\n",
    "\n",
    "real_estate.head()"
   ]
  },
  {
   "cell_type": "markdown",
   "metadata": {},
   "source": [
    "### Шаг 4. Проведите исследовательский анализ данных и выполните инструкции:"
   ]
  },
  {
   "cell_type": "markdown",
   "metadata": {
    "pycharm": {
     "name": "#%% md\n"
    }
   },
   "source": [
    "#### Площадь"
   ]
  },
  {
   "cell_type": "code",
   "execution_count": 17,
   "metadata": {
    "pycharm": {
     "is_executing": false,
     "name": "#%%\n"
    }
   },
   "outputs": [
    {
     "data": {
      "text/plain": [
       "count    23699.000000\n",
       "mean        60.348651\n",
       "std         35.654083\n",
       "min         12.000000\n",
       "25%         40.000000\n",
       "50%         52.000000\n",
       "75%         69.900000\n",
       "max        900.000000\n",
       "Name: total_area, dtype: float64"
      ]
     },
     "execution_count": 17,
     "metadata": {},
     "output_type": "execute_result"
    }
   ],
   "source": [
    "real_estate['total_area'].describe()"
   ]
  },
  {
   "cell_type": "code",
   "execution_count": 18,
   "metadata": {
    "pycharm": {
     "is_executing": false
    }
   },
   "outputs": [
    {
     "data": {
      "image/png": "[encoded data removed]",
      "text/plain": [
       "<Figure size 432x288 with 1 Axes>"
      ]
     },
     "metadata": {
      "needs_background": "light"
     },
     "output_type": "display_data"
    }
   ],
   "source": [
    "plt.ylim(0, 150)\n",
    "real_estate.boxplot('total_area')\n",
    "plt.show()"
   ]
  },
  {
   "cell_type": "code",
   "execution_count": 19,
   "metadata": {
    "pycharm": {
     "is_executing": false,
     "name": "#%%\n"
    }
   },
   "outputs": [
    {
     "data": {
      "image/png": "[encoded data removed]",
      "text/plain": [
       "<Figure size 432x288 with 1 Axes>"
      ]
     },
     "metadata": {
      "needs_background": "light"
     },
     "output_type": "display_data"
    }
   ],
   "source": [
    "real_estate['total_area'].hist(bins=100)\n",
    "plt.show()"
   ]
  },
  {
   "cell_type": "markdown",
   "metadata": {
    "pycharm": {
     "name": "#%% md\n"
    }
   },
   "source": [
    "Средняя площадь - 60 кв. метров. Минимальное значение - 12 кв. метров, а максимальное - 900 кв. метров, что является выбросом.\n",
    "Нас интересуют значения попадающие в референтный интервал, то есть от 12 до 117 квадратных метров."
   ]
  },
  {
   "cell_type": "code",
   "execution_count": 20,
   "metadata": {
    "pycharm": {
     "is_executing": false,
     "name": "#%%\n"
    },
    "scrolled": true
   },
   "outputs": [
    {
     "data": {
      "image/png": "[encoded data removed]",
      "text/plain": [
       "<Figure size 432x288 with 1 Axes>"
      ]
     },
     "metadata": {
      "needs_background": "light"
     },
     "output_type": "display_data"
    }
   ],
   "source": [
    "real_estate = real_estate.query('total_area >=12 and total_area <=117')\n",
    "\n",
    "def hist(column):\n",
    "    min = real_estate[column].min()\n",
    "    max = real_estate[column].max()\n",
    "    plt.hist(real_estate[column], bins='auto', range=(min, max))\n",
    "    plt.title(column)\n",
    "    plt.ylabel('Frequency')\n",
    "    plt.xlabel(column)\n",
    "    plt.show()\n",
    "\n",
    "hist('total_area')"
   ]
  },
  {
   "cell_type": "markdown",
   "metadata": {
    "pycharm": {
     "name": "#%% md\n"
    }
   },
   "source": [
    "#### Цена"
   ]
  },
  {
   "cell_type": "code",
   "execution_count": 21,
   "metadata": {
    "pycharm": {
     "is_executing": false,
     "name": "#%%\n"
    }
   },
   "outputs": [
    {
     "data": {
      "text/plain": [
       "count    2.254000e+04\n",
       "mean     5.340895e+06\n",
       "std      3.457743e+06\n",
       "min      1.219000e+04\n",
       "25%      3.375000e+06\n",
       "50%      4.500000e+06\n",
       "75%      6.300000e+06\n",
       "max      8.200000e+07\n",
       "Name: last_price, dtype: float64"
      ]
     },
     "execution_count": 21,
     "metadata": {},
     "output_type": "execute_result"
    }
   ],
   "source": [
    "real_estate['last_price'].describe()"
   ]
  },
  {
   "cell_type": "code",
   "execution_count": 22,
   "metadata": {
    "pycharm": {
     "is_executing": false,
     "name": "#%%\n"
    }
   },
   "outputs": [
    {
     "data": {
      "image/png": "[encoded data removed]",
      "text/plain": [
       "<Figure size 432x288 with 1 Axes>"
      ]
     },
     "metadata": {
      "needs_background": "light"
     },
     "output_type": "display_data"
    }
   ],
   "source": [
    "plt.ylim(0, 1.3e+07)\n",
    "real_estate.boxplot('last_price')\n",
    "plt.show()"
   ]
  },
  {
   "cell_type": "markdown",
   "metadata": {
    "pycharm": {
     "name": "#%% md\n"
    }
   },
   "source": [
    "В основном цены на квартиры находятся в диапазоне от 4 млн до 7.2 млн."
   ]
  },
  {
   "cell_type": "code",
   "execution_count": 23,
   "metadata": {
    "pycharm": {
     "is_executing": false,
     "name": "#%%\n"
    }
   },
   "outputs": [
    {
     "data": {
      "image/png": "[encoded data removed]",
      "text/plain": [
       "<Figure size 432x288 with 1 Axes>"
      ]
     },
     "metadata": {
      "needs_background": "light"
     },
     "output_type": "display_data"
    }
   ],
   "source": [
    "real_estate = real_estate.query('last_price >= 4e+5 and last_price <= 1.2e+7')\n",
    "\n",
    "hist('last_price')"
   ]
  },
  {
   "cell_type": "markdown",
   "metadata": {
    "pycharm": {
     "name": "#%% md\n"
    }
   },
   "source": [
    "#### Число комнат"
   ]
  },
  {
   "cell_type": "code",
   "execution_count": 24,
   "metadata": {
    "pycharm": {
     "is_executing": false,
     "name": "#%%\n"
    }
   },
   "outputs": [
    {
     "data": {
      "text/plain": [
       "count    21585.000000\n",
       "mean         1.918601\n",
       "std          0.893152\n",
       "min          0.000000\n",
       "25%          1.000000\n",
       "50%          2.000000\n",
       "75%          3.000000\n",
       "max          6.000000\n",
       "Name: rooms, dtype: float64"
      ]
     },
     "execution_count": 24,
     "metadata": {},
     "output_type": "execute_result"
    }
   ],
   "source": [
    "real_estate['rooms'].describe()"
   ]
  },
  {
   "cell_type": "code",
   "execution_count": 25,
   "metadata": {
    "pycharm": {
     "is_executing": false,
     "name": "#%%\n"
    }
   },
   "outputs": [
    {
     "data": {
      "image/png": "[encoded data removed]",
      "text/plain": [
       "<Figure size 432x288 with 1 Axes>"
      ]
     },
     "metadata": {
      "needs_background": "light"
     },
     "output_type": "display_data"
    }
   ],
   "source": [
    "plt.ylim(0, 10)\n",
    "real_estate.boxplot('rooms')\n",
    "plt.show()"
   ]
  },
  {
   "cell_type": "markdown",
   "metadata": {
    "pycharm": {
     "name": "#%% md\n"
    }
   },
   "source": [
    "В основном количество комнат находится в диапазоне от 1 до 3. Среднее значение - 2 комнаты.\n",
    "Все что выше 6 комнат - выбросы."
   ]
  },
  {
   "cell_type": "code",
   "execution_count": 26,
   "metadata": {
    "pycharm": {
     "is_executing": false,
     "name": "#%%\n"
    }
   },
   "outputs": [
    {
     "data": {
      "image/png": "[encoded data removed]",
      "text/plain": [
       "<Figure size 432x288 with 1 Axes>"
      ]
     },
     "metadata": {
      "needs_background": "light"
     },
     "output_type": "display_data"
    }
   ],
   "source": [
    "real_estate = real_estate.query('rooms >= 1 and rooms <= 6')\n",
    "\n",
    "hist('rooms')"
   ]
  },
  {
   "cell_type": "markdown",
   "metadata": {
    "pycharm": {
     "name": "#%% md\n"
    }
   },
   "source": [
    "#### Высота потолков"
   ]
  },
  {
   "cell_type": "code",
   "execution_count": 27,
   "metadata": {
    "pycharm": {
     "is_executing": false,
     "name": "#%%\n"
    }
   },
   "outputs": [
    {
     "data": {
      "text/plain": [
       "count    21390.000000\n",
       "mean         2.696584\n",
       "std          0.769376\n",
       "min          1.000000\n",
       "25%          2.600000\n",
       "50%          2.650000\n",
       "75%          2.700000\n",
       "max         32.000000\n",
       "Name: ceiling_height, dtype: float64"
      ]
     },
     "execution_count": 27,
     "metadata": {},
     "output_type": "execute_result"
    }
   ],
   "source": [
    "real_estate['ceiling_height'].describe()"
   ]
  },
  {
   "cell_type": "code",
   "execution_count": 28,
   "metadata": {
    "pycharm": {
     "is_executing": false,
     "name": "#%%\n"
    }
   },
   "outputs": [
    {
     "data": {
      "image/png": "[encoded data removed]",
      "text/plain": [
       "<Figure size 432x288 with 1 Axes>"
      ]
     },
     "metadata": {
      "needs_background": "light"
     },
     "output_type": "display_data"
    }
   ],
   "source": [
    "plt.ylim(1, 3)\n",
    "real_estate.boxplot('ceiling_height')\n",
    "plt.show()"
   ]
  },
  {
   "cell_type": "markdown",
   "metadata": {
    "pycharm": {
     "name": "#%% md\n"
    }
   },
   "source": [
    "Основной диапазон значений - от 2.45м до 2.85м. Среднее значение 2.75. Минимальная высота потолка в соответствии с нормами - 2.5м. \n",
    "Поэтому значения ниже данного можно не рассматривать."
   ]
  },
  {
   "cell_type": "code",
   "execution_count": 29,
   "metadata": {
    "pycharm": {
     "is_executing": false,
     "name": "#%%\n"
    }
   },
   "outputs": [
    {
     "data": {
      "image/png": "[encoded data removed]",
      "text/plain": [
       "<Figure size 432x288 with 1 Axes>"
      ]
     },
     "metadata": {
      "needs_background": "light"
     },
     "output_type": "display_data"
    }
   ],
   "source": [
    "real_estate = real_estate.query('ceiling_height >= 2.5 and ceiling_height <= 2.85')\n",
    "\n",
    "hist('ceiling_height')\n"
   ]
  },
  {
   "cell_type": "markdown",
   "metadata": {
    "pycharm": {
     "name": "#%% md\n"
    }
   },
   "source": [
    "### Время продажи"
   ]
  },
  {
   "cell_type": "code",
   "execution_count": 30,
   "metadata": {
    "pycharm": {
     "is_executing": false,
     "name": "#%%\n"
    }
   },
   "outputs": [
    {
     "name": "stdout",
     "output_type": "stream",
     "text": [
      "160.1635249278945\n",
      "95.0\n"
     ]
    }
   ],
   "source": [
    "real_estate['days_exposition'].describe()\n",
    "\n",
    "mean = real_estate['days_exposition'].mean()\n",
    "median = real_estate['days_exposition'].median()\n",
    "\n",
    "print(mean)\n",
    "print(median)"
   ]
  },
  {
   "cell_type": "code",
   "execution_count": 31,
   "metadata": {
    "pycharm": {
     "is_executing": false,
     "name": "#%%\n"
    }
   },
   "outputs": [
    {
     "data": {
      "image/png": "[encoded data removed]",
      "text/plain": [
       "<Figure size 432x288 with 1 Axes>"
      ]
     },
     "metadata": {
      "needs_background": "light"
     },
     "output_type": "display_data"
    }
   ],
   "source": [
    "plt.ylim(0, 500)\n",
    "real_estate.boxplot('days_exposition')\n",
    "plt.show()"
   ]
  },
  {
   "cell_type": "markdown",
   "metadata": {
    "pycharm": {
     "name": "#%% md\n"
    }
   },
   "source": [
    "Среднее значение - 169 дней, а медианное - 95.\n",
    "Основной диапазон значений - от 45 (быстрая продажа) до 199 (долгая продажа) дней.\n",
    "Нижний хвост - 1 день, верхний - примерно 430 дней."
   ]
  },
  {
   "cell_type": "code",
   "execution_count": 32,
   "metadata": {
    "pycharm": {
     "is_executing": false,
     "name": "#%%\n"
    },
    "scrolled": true
   },
   "outputs": [
    {
     "data": {
      "image/png": "[encoded data removed]",
      "text/plain": [
       "<Figure size 432x288 with 1 Axes>"
      ]
     },
     "metadata": {
      "needs_background": "light"
     },
     "output_type": "display_data"
    }
   ],
   "source": [
    "real_estate = real_estate.query('days_exposition >= 1 and days_exposition <= 430')\n",
    "hist('days_exposition')"
   ]
  },
  {
   "cell_type": "markdown",
   "metadata": {
    "pycharm": {
     "name": "#%% md\n"
    }
   },
   "source": [
    "### Зависимость стоимости недвижимости от цены квадратного метра"
   ]
  },
  {
   "cell_type": "code",
   "execution_count": 33,
   "metadata": {
    "pycharm": {
     "is_executing": false,
     "name": "#%%\n"
    }
   },
   "outputs": [
    {
     "data": {
      "image/png": "[encoded data removed]",
      "text/plain": [
       "<Figure size 432x288 with 1 Axes>"
      ]
     },
     "metadata": {
      "needs_background": "light"
     },
     "output_type": "display_data"
    }
   ],
   "source": [
    "real_estate_filtered = real_estate.query('total_area >= 12 and total_area <= 117 and last_price >= 4e+5 and last_price <= 1.2e+7')\n",
    "\n",
    "real_estate_filtered.plot(x='square_meter_price', y='last_price', grid=True, kind='scatter')\n",
    "plt.show()"
   ]
  },
  {
   "cell_type": "code",
   "execution_count": 34,
   "metadata": {
    "pycharm": {
     "is_executing": false,
     "name": "#%%\n"
    }
   },
   "outputs": [
    {
     "data": {
      "text/plain": [
       "0.6384066462140904"
      ]
     },
     "execution_count": 34,
     "metadata": {},
     "output_type": "execute_result"
    }
   ],
   "source": [
    "real_estate_filtered['square_meter_price'].corr(real_estate_filtered['last_price'])"
   ]
  },
  {
   "cell_type": "markdown",
   "metadata": {
    "pycharm": {
     "name": "#%% md\n"
    }
   },
   "source": [
    "Стоимость недвижимости сильно зависит от цены квадратного метра. Коэффициент корреляции 0.629."
   ]
  },
  {
   "cell_type": "markdown",
   "metadata": {
    "pycharm": {
     "name": "#%% md\n"
    }
   },
   "source": [
    "### Зависимость стоимости недвижимости от числа комнат"
   ]
  },
  {
   "cell_type": "code",
   "execution_count": 35,
   "metadata": {
    "pycharm": {
     "is_executing": false,
     "name": "#%%\n"
    }
   },
   "outputs": [
    {
     "data": {
      "image/png": "[encoded data removed]",
      "text/plain": [
       "<Figure size 432x288 with 1 Axes>"
      ]
     },
     "metadata": {
      "needs_background": "light"
     },
     "output_type": "display_data"
    }
   ],
   "source": [
    "real_estate_filtered = real_estate.query('rooms >= 1 and rooms <= 6 and last_price >= 4e+5 and last_price <= 1.2e+7')\n",
    "\n",
    "real_estate_filtered.plot(x='rooms', y='last_price', grid=True, kind='scatter')\n",
    "plt.show()"
   ]
  },
  {
   "cell_type": "code",
   "execution_count": 36,
   "metadata": {
    "pycharm": {
     "is_executing": false,
     "name": "#%%\n"
    }
   },
   "outputs": [
    {
     "data": {
      "text/plain": [
       "0.4093829021631143"
      ]
     },
     "execution_count": 36,
     "metadata": {},
     "output_type": "execute_result"
    }
   ],
   "source": [
    "real_estate_filtered['rooms'].corr(real_estate_filtered['last_price'])"
   ]
  },
  {
   "cell_type": "markdown",
   "metadata": {
    "pycharm": {
     "name": "#%% md\n"
    }
   },
   "source": [
    "Зависимость стоимости недвижимости от числа комнат весьма слабая."
   ]
  },
  {
   "cell_type": "markdown",
   "metadata": {
    "pycharm": {
     "name": "#%% md\n"
    }
   },
   "source": [
    "### Зависимость стоимости недвижимости от удаленности от центра города"
   ]
  },
  {
   "cell_type": "code",
   "execution_count": 37,
   "metadata": {
    "pycharm": {
     "is_executing": false,
     "name": "#%%\n"
    }
   },
   "outputs": [
    {
     "data": {
      "text/plain": [
       "-0.3074797435655033"
      ]
     },
     "execution_count": 37,
     "metadata": {},
     "output_type": "execute_result"
    }
   ],
   "source": [
    "real_estate_filtered['cityCenters_nearest'].corr(real_estate_filtered['last_price'])"
   ]
  },
  {
   "cell_type": "markdown",
   "metadata": {
    "pycharm": {
     "name": "#%% md\n"
    }
   },
   "source": [
    "Корреляция между стоимостью недвижимости и удаленностью от центра города слабая, а отрицательное значение коэффициента свидетельствует о том, что чем ближе недвижимость к центру города, тем выше цена. "
   ]
  },
  {
   "cell_type": "markdown",
   "metadata": {
    "pycharm": {
     "name": "#%% md\n"
    }
   },
   "source": [
    "### Зависимость стоимости недвижимости от этажа"
   ]
  },
  {
   "cell_type": "code",
   "execution_count": 38,
   "metadata": {
    "pycharm": {
     "is_executing": false,
     "name": "#%%\n"
    }
   },
   "outputs": [
    {
     "data": {
      "text/html": [
       "<div>\n",
       "<style scoped>\n",
       "    .dataframe tbody tr th:only-of-type {\n",
       "        vertical-align: middle;\n",
       "    }\n",
       "\n",
       "    .dataframe tbody tr th {\n",
       "        vertical-align: top;\n",
       "    }\n",
       "\n",
       "    .dataframe thead th {\n",
       "        text-align: right;\n",
       "    }\n",
       "</style>\n",
       "<table border=\"1\" class=\"dataframe\">\n",
       "  <thead>\n",
       "    <tr style=\"text-align: right;\">\n",
       "      <th></th>\n",
       "      <th>last_price</th>\n",
       "    </tr>\n",
       "    <tr>\n",
       "      <th>floor</th>\n",
       "      <th></th>\n",
       "    </tr>\n",
       "  </thead>\n",
       "  <tbody>\n",
       "    <tr>\n",
       "      <td>другой</td>\n",
       "      <td>4.858010e+06</td>\n",
       "    </tr>\n",
       "    <tr>\n",
       "      <td>последний</td>\n",
       "      <td>4.141332e+06</td>\n",
       "    </tr>\n",
       "    <tr>\n",
       "      <td>первый</td>\n",
       "      <td>3.850952e+06</td>\n",
       "    </tr>\n",
       "  </tbody>\n",
       "</table>\n",
       "</div>"
      ],
      "text/plain": [
       "             last_price\n",
       "floor                  \n",
       "другой     4.858010e+06\n",
       "последний  4.141332e+06\n",
       "первый     3.850952e+06"
      ]
     },
     "execution_count": 38,
     "metadata": {},
     "output_type": "execute_result"
    }
   ],
   "source": [
    "real_estate[['floor', 'last_price']] = real_estate[['floor', 'last_price']].query('last_price >= 4e+5 and last_price <= 1.2e+7')\n",
    "real_estate[['floor', 'last_price']].pivot_table(index='floor', values='last_price').sort_values(by='last_price', ascending=False)"
   ]
  },
  {
   "cell_type": "markdown",
   "metadata": {
    "pycharm": {
     "name": "#%% md\n"
    }
   },
   "source": [
    "Чем выше этаж, тем выше и цена за квартиру на этом этаже."
   ]
  },
  {
   "cell_type": "markdown",
   "metadata": {
    "pycharm": {
     "name": "#%% md\n"
    }
   },
   "source": [
    "### Зависимость стоимости недвижимости от даты размещения"
   ]
  },
  {
   "cell_type": "code",
   "execution_count": 39,
   "metadata": {
    "pycharm": {
     "is_executing": false,
     "name": "#%%\n"
    }
   },
   "outputs": [
    {
     "data": {
      "text/html": [
       "<div>\n",
       "<style scoped>\n",
       "    .dataframe tbody tr th:only-of-type {\n",
       "        vertical-align: middle;\n",
       "    }\n",
       "\n",
       "    .dataframe tbody tr th {\n",
       "        vertical-align: top;\n",
       "    }\n",
       "\n",
       "    .dataframe thead th {\n",
       "        text-align: right;\n",
       "    }\n",
       "</style>\n",
       "<table border=\"1\" class=\"dataframe\">\n",
       "  <thead>\n",
       "    <tr style=\"text-align: right;\">\n",
       "      <th></th>\n",
       "      <th>day_of_exposition</th>\n",
       "      <th>month_of_exposition</th>\n",
       "      <th>year_of_exposition</th>\n",
       "      <th>last_price</th>\n",
       "    </tr>\n",
       "  </thead>\n",
       "  <tbody>\n",
       "    <tr>\n",
       "      <td>day_of_exposition</td>\n",
       "      <td>1.000000</td>\n",
       "      <td>0.011298</td>\n",
       "      <td>-0.012723</td>\n",
       "      <td>-0.006795</td>\n",
       "    </tr>\n",
       "    <tr>\n",
       "      <td>month_of_exposition</td>\n",
       "      <td>0.011298</td>\n",
       "      <td>1.000000</td>\n",
       "      <td>-0.305103</td>\n",
       "      <td>0.009057</td>\n",
       "    </tr>\n",
       "    <tr>\n",
       "      <td>year_of_exposition</td>\n",
       "      <td>-0.012723</td>\n",
       "      <td>-0.305103</td>\n",
       "      <td>1.000000</td>\n",
       "      <td>0.030217</td>\n",
       "    </tr>\n",
       "    <tr>\n",
       "      <td>last_price</td>\n",
       "      <td>-0.006795</td>\n",
       "      <td>0.009057</td>\n",
       "      <td>0.030217</td>\n",
       "      <td>1.000000</td>\n",
       "    </tr>\n",
       "  </tbody>\n",
       "</table>\n",
       "</div>"
      ],
      "text/plain": [
       "                     day_of_exposition  month_of_exposition  \\\n",
       "day_of_exposition             1.000000             0.011298   \n",
       "month_of_exposition           0.011298             1.000000   \n",
       "year_of_exposition           -0.012723            -0.305103   \n",
       "last_price                   -0.006795             0.009057   \n",
       "\n",
       "                     year_of_exposition  last_price  \n",
       "day_of_exposition             -0.012723   -0.006795  \n",
       "month_of_exposition           -0.305103    0.009057  \n",
       "year_of_exposition             1.000000    0.030217  \n",
       "last_price                     0.030217    1.000000  "
      ]
     },
     "execution_count": 39,
     "metadata": {},
     "output_type": "execute_result"
    }
   ],
   "source": [
    "real_estate_filtered = real_estate.query('days_exposition >= 1 and days_exposition <= 430 and last_price >= 4e+5 and last_price <= 1.2e+7')\n",
    "real_estate_filtered[['day_of_exposition', 'month_of_exposition', 'year_of_exposition', 'last_price']].corr()"
   ]
  },
  {
   "cell_type": "code",
   "execution_count": 41,
   "metadata": {},
   "outputs": [
    {
     "data": {
      "text/plain": [
       "array([[<matplotlib.axes._subplots.AxesSubplot object at 0x7f71f4e07908>,\n",
       "        <matplotlib.axes._subplots.AxesSubplot object at 0x7f71f49fefd0>,\n",
       "        <matplotlib.axes._subplots.AxesSubplot object at 0x7f71f4a2d588>,\n",
       "        <matplotlib.axes._subplots.AxesSubplot object at 0x7f71f49ddb38>],\n",
       "       [<matplotlib.axes._subplots.AxesSubplot object at 0x7f71f4999128>,\n",
       "        <matplotlib.axes._subplots.AxesSubplot object at 0x7f71f494c6d8>,\n",
       "        <matplotlib.axes._subplots.AxesSubplot object at 0x7f71f4be8e10>,\n",
       "        <matplotlib.axes._subplots.AxesSubplot object at 0x7f71f5d71390>],\n",
       "       [<matplotlib.axes._subplots.AxesSubplot object at 0x7f71f5d71e48>,\n",
       "        <matplotlib.axes._subplots.AxesSubplot object at 0x7f71f4f96940>,\n",
       "        <matplotlib.axes._subplots.AxesSubplot object at 0x7f71f4e93390>,\n",
       "        <matplotlib.axes._subplots.AxesSubplot object at 0x7f71f4d89f28>],\n",
       "       [<matplotlib.axes._subplots.AxesSubplot object at 0x7f71f4c99588>,\n",
       "        <matplotlib.axes._subplots.AxesSubplot object at 0x7f71f4f43908>,\n",
       "        <matplotlib.axes._subplots.AxesSubplot object at 0x7f71f4745da0>,\n",
       "        <matplotlib.axes._subplots.AxesSubplot object at 0x7f71f4bf3390>]],\n",
       "      dtype=object)"
      ]
     },
     "execution_count": 41,
     "metadata": {},
     "output_type": "execute_result"
    },
    {
     "data": {
      "image/png": "[encoded data removed]",
      "text/plain": [
       "<Figure size 648x648 with 16 Axes>"
      ]
     },
     "metadata": {
      "needs_background": "light"
     },
     "output_type": "display_data"
    }
   ],
   "source": [
    "pd.plotting.scatter_matrix(real_estate_filtered[['day_of_exposition', 'month_of_exposition', 'year_of_exposition', 'last_price']], figsize=(9, 9))"
   ]
  },
  {
   "cell_type": "markdown",
   "metadata": {},
   "source": [
    "Коэффициент корреляции между стоимостью недвижимости и датой размещения объявления близок к нулю, связь отсутствует."
   ]
  },
  {
   "cell_type": "markdown",
   "metadata": {
    "pycharm": {
     "is_executing": false,
     "name": "#%% md\n"
    }
   },
   "source": [
    "### 10 населённых пунктов с наибольшим числом объявлений"
   ]
  },
  {
   "cell_type": "code",
   "execution_count": 42,
   "metadata": {
    "pycharm": {
     "is_executing": false,
     "name": "#%%\n"
    }
   },
   "outputs": [
    {
     "data": {
      "text/plain": [
       "Санкт-Петербург      10960\n",
       "посёлок Мурино         450\n",
       "посёлок Шушары         398\n",
       "Всеволожск             333\n",
       "посёлок Парголово      298\n",
       "Колпино                295\n",
       "Пушкин                 272\n",
       "Гатчина                255\n",
       "деревня Кудрово        245\n",
       "Выборг                 189\n",
       "Name: locality_name, dtype: int64"
      ]
     },
     "execution_count": 42,
     "metadata": {},
     "output_type": "execute_result"
    }
   ],
   "source": [
    "top_ten_localities = real_estate['locality_name'].value_counts().head(10)\n",
    "top_ten_localities"
   ]
  },
  {
   "cell_type": "code",
   "execution_count": 43,
   "metadata": {
    "pycharm": {
     "is_executing": false,
     "name": "#%%\n"
    }
   },
   "outputs": [
    {
     "data": {
      "text/html": [
       "<div>\n",
       "<style scoped>\n",
       "    .dataframe tbody tr th:only-of-type {\n",
       "        vertical-align: middle;\n",
       "    }\n",
       "\n",
       "    .dataframe tbody tr th {\n",
       "        vertical-align: top;\n",
       "    }\n",
       "\n",
       "    .dataframe thead th {\n",
       "        text-align: right;\n",
       "    }\n",
       "</style>\n",
       "<table border=\"1\" class=\"dataframe\">\n",
       "  <thead>\n",
       "    <tr style=\"text-align: right;\">\n",
       "      <th></th>\n",
       "      <th>square_meter_price</th>\n",
       "    </tr>\n",
       "    <tr>\n",
       "      <th>locality_name</th>\n",
       "      <th></th>\n",
       "    </tr>\n",
       "  </thead>\n",
       "  <tbody>\n",
       "    <tr>\n",
       "      <td>Санкт-Петербург</td>\n",
       "      <td>104831.326170</td>\n",
       "    </tr>\n",
       "    <tr>\n",
       "      <td>Пушкин</td>\n",
       "      <td>99514.809471</td>\n",
       "    </tr>\n",
       "    <tr>\n",
       "      <td>деревня Кудрово</td>\n",
       "      <td>92482.731703</td>\n",
       "    </tr>\n",
       "    <tr>\n",
       "      <td>посёлок Парголово</td>\n",
       "      <td>90114.773101</td>\n",
       "    </tr>\n",
       "    <tr>\n",
       "      <td>посёлок Мурино</td>\n",
       "      <td>85340.089624</td>\n",
       "    </tr>\n",
       "    <tr>\n",
       "      <td>посёлок Шушары</td>\n",
       "      <td>78408.041307</td>\n",
       "    </tr>\n",
       "    <tr>\n",
       "      <td>Колпино</td>\n",
       "      <td>75287.132729</td>\n",
       "    </tr>\n",
       "    <tr>\n",
       "      <td>Гатчина</td>\n",
       "      <td>68404.836431</td>\n",
       "    </tr>\n",
       "    <tr>\n",
       "      <td>Всеволожск</td>\n",
       "      <td>67153.222226</td>\n",
       "    </tr>\n",
       "    <tr>\n",
       "      <td>Выборг</td>\n",
       "      <td>57864.959859</td>\n",
       "    </tr>\n",
       "  </tbody>\n",
       "</table>\n",
       "</div>"
      ],
      "text/plain": [
       "                   square_meter_price\n",
       "locality_name                        \n",
       "Санкт-Петербург         104831.326170\n",
       "Пушкин                   99514.809471\n",
       "деревня Кудрово          92482.731703\n",
       "посёлок Парголово        90114.773101\n",
       "посёлок Мурино           85340.089624\n",
       "посёлок Шушары           78408.041307\n",
       "Колпино                  75287.132729\n",
       "Гатчина                  68404.836431\n",
       "Всеволожск               67153.222226\n",
       "Выборг                   57864.959859"
      ]
     },
     "execution_count": 43,
     "metadata": {},
     "output_type": "execute_result"
    }
   ],
   "source": [
    "top_ten_locality_names = list(top_ten_localities.index)\n",
    "(\n",
    "    real_estate.query('locality_name in @top_ten_locality_names and last_price >= 4e+5 and last_price <= 1.2e+7')\n",
    "    .pivot_table(index='locality_name', values='square_meter_price')\n",
    "    .sort_values(by='square_meter_price', ascending=False)\n",
    ")"
   ]
  },
  {
   "cell_type": "markdown",
   "metadata": {
    "pycharm": {
     "name": "#%% md\n"
    }
   },
   "source": [
    "Самая низкая цена за квадратный метр в Выборге, а самая дорогая - в Санкт-Петербурге."
   ]
  },
  {
   "cell_type": "markdown",
   "metadata": {
    "pycharm": {
     "name": "#%% md\n"
    }
   },
   "source": [
    "### Изучение недвижимости в Санкт-Петербурге."
   ]
  },
  {
   "cell_type": "code",
   "execution_count": 44,
   "metadata": {
    "pycharm": {
     "is_executing": false,
     "name": "#%%\n"
    }
   },
   "outputs": [
    {
     "data": {
      "text/plain": [
       "10960"
      ]
     },
     "execution_count": 44,
     "metadata": {},
     "output_type": "execute_result"
    }
   ],
   "source": [
    "saint_p_data = real_estate.query('locality_name in \"Санкт-Петербург\"')\n",
    "len(saint_p_data)"
   ]
  },
  {
   "cell_type": "code",
   "execution_count": 45,
   "metadata": {
    "pycharm": {
     "is_executing": false,
     "name": "#%%\n"
    }
   },
   "outputs": [
    {
     "name": "stderr",
     "output_type": "stream",
     "text": [
      "/opt/conda/lib/python3.7/site-packages/ipykernel_launcher.py:2: SettingWithCopyWarning: \n",
      "A value is trying to be set on a copy of a slice from a DataFrame.\n",
      "Try using .loc[row_indexer,col_indexer] = value instead\n",
      "\n",
      "See the caveats in the documentation: http://pandas.pydata.org/pandas-docs/stable/user_guide/indexing.html#returning-a-view-versus-a-copy\n",
      "  \n"
     ]
    }
   ],
   "source": [
    "# Создаём столбец с расстоянием до центра в километрах. Округляем до целых значений.\n",
    "saint_p_data['cityCenters_nearest_km'] = (saint_p_data['cityCenters_nearest'] / 1000).astype('int')"
   ]
  },
  {
   "cell_type": "code",
   "execution_count": 49,
   "metadata": {
    "pycharm": {
     "is_executing": false,
     "name": "#%%\n"
    }
   },
   "outputs": [
    {
     "name": "stdout",
     "output_type": "stream",
     "text": [
      "                          last_price\n",
      "cityCenters_nearest_km              \n",
      "0                       7.339944e+06\n",
      "1                       8.070887e+06\n",
      "2                       7.506257e+06\n",
      "3                       6.994724e+06\n",
      "4                       7.426053e+06\n",
      "5                       7.119285e+06\n",
      "6                       6.834650e+06\n",
      "7                       6.568587e+06\n",
      "8                       5.808924e+06\n",
      "9                       5.170246e+06\n",
      "10                      5.198678e+06\n",
      "11                      5.250892e+06\n",
      "12                      5.405540e+06\n",
      "13                      5.521407e+06\n",
      "14                      5.267152e+06\n",
      "15                      5.117843e+06\n",
      "16                      5.032682e+06\n",
      "17                      4.618987e+06\n",
      "18                      4.772657e+06\n",
      "19                      4.621305e+06\n",
      "20                      6.309577e+06\n",
      "21                      5.087356e+06\n",
      "22                      5.137987e+06\n",
      "23                      4.256087e+06\n",
      "24                      3.862235e+06\n",
      "25                      4.054563e+06\n",
      "26                      3.375000e+06\n",
      "27                      2.250000e+06\n",
      "28                      4.633571e+06\n",
      "29                      2.450000e+06\n"
     ]
    }
   ],
   "source": [
    "# Средняя ценя для каждого километра\n",
    "saint_p_km_price = saint_p_data.pivot_table(index='cityCenters_nearest_km', values='last_price')\n",
    "print(saint_p_km_price)"
   ]
  },
  {
   "cell_type": "code",
   "execution_count": 50,
   "metadata": {
    "pycharm": {
     "is_executing": false,
     "name": "#%%\n"
    }
   },
   "outputs": [
    {
     "data": {
      "image/png": "[encoded data removed]",
      "text/plain": [
       "<Figure size 432x288 with 1 Axes>"
      ]
     },
     "metadata": {
      "needs_background": "light"
     },
     "output_type": "display_data"
    }
   ],
   "source": [
    "# График зависимости цены от удаленности недвижимости от центра\n",
    "(\n",
    "    pd.DataFrame(saint_p_km_price.pivot_table(index='cityCenters_nearest_km', values='last_price').to_records())\n",
    "    .plot(x='cityCenters_nearest_km', y='last_price', kind='scatter', grid=True)\n",
    ")\n",
    "plt.show()"
   ]
  },
  {
   "cell_type": "markdown",
   "metadata": {
    "pycharm": {
     "name": "#%% md\n"
    }
   },
   "source": [
    "График сильно меняется в районе 8км. Примем это значение за центральную зону."
   ]
  },
  {
   "cell_type": "markdown",
   "metadata": {
    "pycharm": {
     "name": "#%% md\n"
    }
   },
   "source": [
    "### Проанализируйте сегмент квартир в центре"
   ]
  },
  {
   "cell_type": "code",
   "execution_count": 51,
   "metadata": {
    "pycharm": {
     "is_executing": false,
     "name": "#%%\n"
    }
   },
   "outputs": [],
   "source": [
    "# Выборка квартир в центре\n",
    "saint_p_estate = pd.DataFrame(saint_p_data.query('cityCenters_nearest_km <= 8'))"
   ]
  },
  {
   "cell_type": "code",
   "execution_count": 52,
   "metadata": {
    "pycharm": {
     "is_executing": false,
     "name": "#%%\n"
    },
    "scrolled": true
   },
   "outputs": [
    {
     "data": {
      "text/plain": [
       "count    1587.000000\n",
       "mean       58.788475\n",
       "std        20.302047\n",
       "min        12.000000\n",
       "25%        43.000000\n",
       "50%        56.400000\n",
       "75%        72.000000\n",
       "max       117.000000\n",
       "Name: total_area, dtype: float64"
      ]
     },
     "execution_count": 52,
     "metadata": {},
     "output_type": "execute_result"
    }
   ],
   "source": [
    "# Площадь\n",
    "saint_p_estate['total_area'].describe()"
   ]
  },
  {
   "cell_type": "code",
   "execution_count": 53,
   "metadata": {
    "pycharm": {
     "is_executing": false,
     "name": "#%%\n"
    }
   },
   "outputs": [
    {
     "data": {
      "text/plain": [
       "count    1.587000e+03\n",
       "mean     6.800674e+06\n",
       "std      2.335212e+06\n",
       "min      1.686000e+06\n",
       "25%      4.990000e+06\n",
       "50%      6.550000e+06\n",
       "75%      8.500000e+06\n",
       "max      1.200000e+07\n",
       "Name: last_price, dtype: float64"
      ]
     },
     "execution_count": 53,
     "metadata": {},
     "output_type": "execute_result"
    }
   ],
   "source": [
    "# Цена\n",
    "saint_p_estate['last_price'].describe()"
   ]
  },
  {
   "cell_type": "code",
   "execution_count": 54,
   "metadata": {
    "pycharm": {
     "is_executing": false,
     "name": "#%%\n"
    }
   },
   "outputs": [
    {
     "data": {
      "text/plain": [
       "count    1587.000000\n",
       "mean        2.061752\n",
       "std         0.892715\n",
       "min         1.000000\n",
       "25%         1.000000\n",
       "50%         2.000000\n",
       "75%         3.000000\n",
       "max         6.000000\n",
       "Name: rooms, dtype: float64"
      ]
     },
     "execution_count": 54,
     "metadata": {},
     "output_type": "execute_result"
    }
   ],
   "source": [
    "# Число комнат\n",
    "saint_p_estate['rooms'].describe()"
   ]
  },
  {
   "cell_type": "code",
   "execution_count": 55,
   "metadata": {
    "pycharm": {
     "is_executing": false,
     "name": "#%%\n"
    }
   },
   "outputs": [
    {
     "data": {
      "text/plain": [
       "count    1587.000000\n",
       "mean        2.652773\n",
       "std         0.078891\n",
       "min         2.500000\n",
       "25%         2.650000\n",
       "50%         2.650000\n",
       "75%         2.650000\n",
       "max         2.850000\n",
       "Name: ceiling_height, dtype: float64"
      ]
     },
     "execution_count": 55,
     "metadata": {},
     "output_type": "execute_result"
    }
   ],
   "source": [
    "# Высота потолков\n",
    "saint_p_estate['ceiling_height'].describe()"
   ]
  },
  {
   "cell_type": "markdown",
   "metadata": {
    "pycharm": {
     "name": "#%% md\n"
    }
   },
   "source": [
    "Рассмотрим квартиру из среднестатистического объявления:\n",
    "\n",
    "Площадь - 63 квадратных метра.\n",
    "Цена - 7.2 млн.\n",
    "Число комнат - 2 комнаты.\n",
    "Высота потолков - 2.65 м."
   ]
  },
  {
   "cell_type": "markdown",
   "metadata": {
    "pycharm": {
     "name": "#%% md\n"
    }
   },
   "source": [
    "### Выделим факторы, влияющие на стоимость квартиры"
   ]
  },
  {
   "cell_type": "code",
   "execution_count": 56,
   "metadata": {
    "pycharm": {
     "is_executing": false,
     "name": "#%%\n"
    }
   },
   "outputs": [
    {
     "data": {
      "text/html": [
       "<div>\n",
       "<style scoped>\n",
       "    .dataframe tbody tr th:only-of-type {\n",
       "        vertical-align: middle;\n",
       "    }\n",
       "\n",
       "    .dataframe tbody tr th {\n",
       "        vertical-align: top;\n",
       "    }\n",
       "\n",
       "    .dataframe thead th {\n",
       "        text-align: right;\n",
       "    }\n",
       "</style>\n",
       "<table border=\"1\" class=\"dataframe\">\n",
       "  <thead>\n",
       "    <tr style=\"text-align: right;\">\n",
       "      <th></th>\n",
       "      <th>last_price</th>\n",
       "      <th>total_area</th>\n",
       "      <th>rooms</th>\n",
       "      <th>ceiling_height</th>\n",
       "      <th>day_of_exposition</th>\n",
       "      <th>month_of_exposition</th>\n",
       "      <th>year_of_exposition</th>\n",
       "      <th>cityCenters_nearest_km</th>\n",
       "    </tr>\n",
       "  </thead>\n",
       "  <tbody>\n",
       "    <tr>\n",
       "      <td>last_price</td>\n",
       "      <td>1.000000</td>\n",
       "      <td>0.748100</td>\n",
       "      <td>0.457996</td>\n",
       "      <td>0.270644</td>\n",
       "      <td>0.036694</td>\n",
       "      <td>0.016570</td>\n",
       "      <td>0.012584</td>\n",
       "      <td>-0.240970</td>\n",
       "    </tr>\n",
       "    <tr>\n",
       "      <td>total_area</td>\n",
       "      <td>0.748100</td>\n",
       "      <td>1.000000</td>\n",
       "      <td>0.790296</td>\n",
       "      <td>0.194042</td>\n",
       "      <td>0.022930</td>\n",
       "      <td>0.040997</td>\n",
       "      <td>-0.104992</td>\n",
       "      <td>-0.235546</td>\n",
       "    </tr>\n",
       "    <tr>\n",
       "      <td>rooms</td>\n",
       "      <td>0.457996</td>\n",
       "      <td>0.790296</td>\n",
       "      <td>1.000000</td>\n",
       "      <td>0.049135</td>\n",
       "      <td>0.007352</td>\n",
       "      <td>0.032691</td>\n",
       "      <td>-0.076268</td>\n",
       "      <td>-0.198178</td>\n",
       "    </tr>\n",
       "    <tr>\n",
       "      <td>ceiling_height</td>\n",
       "      <td>0.270644</td>\n",
       "      <td>0.194042</td>\n",
       "      <td>0.049135</td>\n",
       "      <td>1.000000</td>\n",
       "      <td>0.001282</td>\n",
       "      <td>0.002096</td>\n",
       "      <td>-0.042924</td>\n",
       "      <td>-0.186875</td>\n",
       "    </tr>\n",
       "    <tr>\n",
       "      <td>day_of_exposition</td>\n",
       "      <td>0.036694</td>\n",
       "      <td>0.022930</td>\n",
       "      <td>0.007352</td>\n",
       "      <td>0.001282</td>\n",
       "      <td>1.000000</td>\n",
       "      <td>0.049336</td>\n",
       "      <td>-0.003823</td>\n",
       "      <td>0.001924</td>\n",
       "    </tr>\n",
       "    <tr>\n",
       "      <td>month_of_exposition</td>\n",
       "      <td>0.016570</td>\n",
       "      <td>0.040997</td>\n",
       "      <td>0.032691</td>\n",
       "      <td>0.002096</td>\n",
       "      <td>0.049336</td>\n",
       "      <td>1.000000</td>\n",
       "      <td>-0.300714</td>\n",
       "      <td>-0.003021</td>\n",
       "    </tr>\n",
       "    <tr>\n",
       "      <td>year_of_exposition</td>\n",
       "      <td>0.012584</td>\n",
       "      <td>-0.104992</td>\n",
       "      <td>-0.076268</td>\n",
       "      <td>-0.042924</td>\n",
       "      <td>-0.003823</td>\n",
       "      <td>-0.300714</td>\n",
       "      <td>1.000000</td>\n",
       "      <td>0.120668</td>\n",
       "    </tr>\n",
       "    <tr>\n",
       "      <td>cityCenters_nearest_km</td>\n",
       "      <td>-0.240970</td>\n",
       "      <td>-0.235546</td>\n",
       "      <td>-0.198178</td>\n",
       "      <td>-0.186875</td>\n",
       "      <td>0.001924</td>\n",
       "      <td>-0.003021</td>\n",
       "      <td>0.120668</td>\n",
       "      <td>1.000000</td>\n",
       "    </tr>\n",
       "  </tbody>\n",
       "</table>\n",
       "</div>"
      ],
      "text/plain": [
       "                        last_price  total_area     rooms  ceiling_height  \\\n",
       "last_price                1.000000    0.748100  0.457996        0.270644   \n",
       "total_area                0.748100    1.000000  0.790296        0.194042   \n",
       "rooms                     0.457996    0.790296  1.000000        0.049135   \n",
       "ceiling_height            0.270644    0.194042  0.049135        1.000000   \n",
       "day_of_exposition         0.036694    0.022930  0.007352        0.001282   \n",
       "month_of_exposition       0.016570    0.040997  0.032691        0.002096   \n",
       "year_of_exposition        0.012584   -0.104992 -0.076268       -0.042924   \n",
       "cityCenters_nearest_km   -0.240970   -0.235546 -0.198178       -0.186875   \n",
       "\n",
       "                        day_of_exposition  month_of_exposition  \\\n",
       "last_price                       0.036694             0.016570   \n",
       "total_area                       0.022930             0.040997   \n",
       "rooms                            0.007352             0.032691   \n",
       "ceiling_height                   0.001282             0.002096   \n",
       "day_of_exposition                1.000000             0.049336   \n",
       "month_of_exposition              0.049336             1.000000   \n",
       "year_of_exposition              -0.003823            -0.300714   \n",
       "cityCenters_nearest_km           0.001924            -0.003021   \n",
       "\n",
       "                        year_of_exposition  cityCenters_nearest_km  \n",
       "last_price                        0.012584               -0.240970  \n",
       "total_area                       -0.104992               -0.235546  \n",
       "rooms                            -0.076268               -0.198178  \n",
       "ceiling_height                   -0.042924               -0.186875  \n",
       "day_of_exposition                -0.003823                0.001924  \n",
       "month_of_exposition              -0.300714               -0.003021  \n",
       "year_of_exposition                1.000000                0.120668  \n",
       "cityCenters_nearest_km            0.120668                1.000000  "
      ]
     },
     "execution_count": 56,
     "metadata": {},
     "output_type": "execute_result"
    }
   ],
   "source": [
    "saint_p_data = saint_p_estate\n",
    "\n",
    "columns = [\n",
    "    'last_price',\n",
    "    'total_area',\n",
    "    'rooms',\n",
    "    'ceiling_height',\n",
    "    'day_of_exposition',\n",
    "    'month_of_exposition',\n",
    "    'year_of_exposition',\n",
    "    'cityCenters_nearest_km'\n",
    "]\n",
    "\n",
    "saint_p_data[columns].corr().sort_values('last_price', ascending=False)"
   ]
  },
  {
   "cell_type": "code",
   "execution_count": 57,
   "metadata": {},
   "outputs": [
    {
     "data": {
      "text/html": [
       "<div>\n",
       "<style scoped>\n",
       "    .dataframe tbody tr th:only-of-type {\n",
       "        vertical-align: middle;\n",
       "    }\n",
       "\n",
       "    .dataframe tbody tr th {\n",
       "        vertical-align: top;\n",
       "    }\n",
       "\n",
       "    .dataframe thead th {\n",
       "        text-align: right;\n",
       "    }\n",
       "</style>\n",
       "<table border=\"1\" class=\"dataframe\">\n",
       "  <thead>\n",
       "    <tr style=\"text-align: right;\">\n",
       "      <th></th>\n",
       "      <th>last_price</th>\n",
       "      <th>total_area</th>\n",
       "      <th>rooms</th>\n",
       "      <th>ceiling_height</th>\n",
       "      <th>day_of_exposition</th>\n",
       "      <th>month_of_exposition</th>\n",
       "      <th>year_of_exposition</th>\n",
       "      <th>cityCenters_nearest_km</th>\n",
       "    </tr>\n",
       "  </thead>\n",
       "  <tbody>\n",
       "    <tr>\n",
       "      <td>last_price</td>\n",
       "      <td>1.000000</td>\n",
       "      <td>0.680565</td>\n",
       "      <td>0.409383</td>\n",
       "      <td>0.246750</td>\n",
       "      <td>-0.006795</td>\n",
       "      <td>0.009057</td>\n",
       "      <td>0.030217</td>\n",
       "      <td>-0.307480</td>\n",
       "    </tr>\n",
       "    <tr>\n",
       "      <td>total_area</td>\n",
       "      <td>0.680565</td>\n",
       "      <td>1.000000</td>\n",
       "      <td>0.797569</td>\n",
       "      <td>0.138092</td>\n",
       "      <td>-0.000926</td>\n",
       "      <td>0.015548</td>\n",
       "      <td>-0.039349</td>\n",
       "      <td>-0.072823</td>\n",
       "    </tr>\n",
       "    <tr>\n",
       "      <td>rooms</td>\n",
       "      <td>0.409383</td>\n",
       "      <td>0.797569</td>\n",
       "      <td>1.000000</td>\n",
       "      <td>-0.094665</td>\n",
       "      <td>0.004166</td>\n",
       "      <td>0.001411</td>\n",
       "      <td>-0.016080</td>\n",
       "      <td>-0.034272</td>\n",
       "    </tr>\n",
       "    <tr>\n",
       "      <td>ceiling_height</td>\n",
       "      <td>0.246750</td>\n",
       "      <td>0.138092</td>\n",
       "      <td>-0.094665</td>\n",
       "      <td>1.000000</td>\n",
       "      <td>0.007455</td>\n",
       "      <td>0.013256</td>\n",
       "      <td>-0.107403</td>\n",
       "      <td>-0.097977</td>\n",
       "    </tr>\n",
       "    <tr>\n",
       "      <td>year_of_exposition</td>\n",
       "      <td>0.030217</td>\n",
       "      <td>-0.039349</td>\n",
       "      <td>-0.016080</td>\n",
       "      <td>-0.107403</td>\n",
       "      <td>-0.012723</td>\n",
       "      <td>-0.305103</td>\n",
       "      <td>1.000000</td>\n",
       "      <td>0.005200</td>\n",
       "    </tr>\n",
       "    <tr>\n",
       "      <td>month_of_exposition</td>\n",
       "      <td>0.009057</td>\n",
       "      <td>0.015548</td>\n",
       "      <td>0.001411</td>\n",
       "      <td>0.013256</td>\n",
       "      <td>0.011298</td>\n",
       "      <td>1.000000</td>\n",
       "      <td>-0.305103</td>\n",
       "      <td>-0.013579</td>\n",
       "    </tr>\n",
       "    <tr>\n",
       "      <td>day_of_exposition</td>\n",
       "      <td>-0.006795</td>\n",
       "      <td>-0.000926</td>\n",
       "      <td>0.004166</td>\n",
       "      <td>0.007455</td>\n",
       "      <td>1.000000</td>\n",
       "      <td>0.011298</td>\n",
       "      <td>-0.012723</td>\n",
       "      <td>-0.001176</td>\n",
       "    </tr>\n",
       "    <tr>\n",
       "      <td>cityCenters_nearest_km</td>\n",
       "      <td>-0.307480</td>\n",
       "      <td>-0.072823</td>\n",
       "      <td>-0.034272</td>\n",
       "      <td>-0.097977</td>\n",
       "      <td>-0.001176</td>\n",
       "      <td>-0.013579</td>\n",
       "      <td>0.005200</td>\n",
       "      <td>1.000000</td>\n",
       "    </tr>\n",
       "  </tbody>\n",
       "</table>\n",
       "</div>"
      ],
      "text/plain": [
       "                        last_price  total_area     rooms  ceiling_height  \\\n",
       "last_price                1.000000    0.680565  0.409383        0.246750   \n",
       "total_area                0.680565    1.000000  0.797569        0.138092   \n",
       "rooms                     0.409383    0.797569  1.000000       -0.094665   \n",
       "ceiling_height            0.246750    0.138092 -0.094665        1.000000   \n",
       "year_of_exposition        0.030217   -0.039349 -0.016080       -0.107403   \n",
       "month_of_exposition       0.009057    0.015548  0.001411        0.013256   \n",
       "day_of_exposition        -0.006795   -0.000926  0.004166        0.007455   \n",
       "cityCenters_nearest_km   -0.307480   -0.072823 -0.034272       -0.097977   \n",
       "\n",
       "                        day_of_exposition  month_of_exposition  \\\n",
       "last_price                      -0.006795             0.009057   \n",
       "total_area                      -0.000926             0.015548   \n",
       "rooms                            0.004166             0.001411   \n",
       "ceiling_height                   0.007455             0.013256   \n",
       "year_of_exposition              -0.012723            -0.305103   \n",
       "month_of_exposition              0.011298             1.000000   \n",
       "day_of_exposition                1.000000             0.011298   \n",
       "cityCenters_nearest_km          -0.001176            -0.013579   \n",
       "\n",
       "                        year_of_exposition  cityCenters_nearest_km  \n",
       "last_price                        0.030217               -0.307480  \n",
       "total_area                       -0.039349               -0.072823  \n",
       "rooms                            -0.016080               -0.034272  \n",
       "ceiling_height                   -0.107403               -0.097977  \n",
       "year_of_exposition                1.000000                0.005200  \n",
       "month_of_exposition              -0.305103               -0.013579  \n",
       "day_of_exposition                -0.012723               -0.001176  \n",
       "cityCenters_nearest_km            0.005200                1.000000  "
      ]
     },
     "execution_count": 57,
     "metadata": {},
     "output_type": "execute_result"
    }
   ],
   "source": [
    "real_estate['cityCenters_nearest_km'] = (real_estate['cityCenters_nearest'] / 1000)\n",
    "real_estate_data = real_estate\n",
    "\n",
    "columns = [\n",
    "    'last_price',\n",
    "    'total_area',\n",
    "    'rooms',\n",
    "    'ceiling_height',\n",
    "    'day_of_exposition',\n",
    "    'month_of_exposition',\n",
    "    'year_of_exposition',\n",
    "    'cityCenters_nearest_km'\n",
    "]\n",
    "\n",
    "real_estate[columns].corr().sort_values('last_price', ascending=False)\n"
   ]
  },
  {
   "cell_type": "code",
   "execution_count": 58,
   "metadata": {
    "pycharm": {
     "is_executing": false,
     "name": "#%%\n"
    }
   },
   "outputs": [
    {
     "name": "stdout",
     "output_type": "stream",
     "text": [
      "             last_price\n",
      "floor                  \n",
      "первый     5.642075e+06\n",
      "последний  6.731731e+06\n",
      "другой     7.007359e+06\n"
     ]
    }
   ],
   "source": [
    "# Этаж\n",
    "#saint_p_data.pivot_table(index='floor', values='last_price').sort_values(by='last_price')\n",
    "print(saint_p_data.pivot_table(index='floor', values='last_price').sort_values(by='last_price'))"
   ]
  },
  {
   "cell_type": "markdown",
   "metadata": {
    "pycharm": {
     "name": "#%% md\n"
    }
   },
   "source": [
    "Средняя цена в центре 7.2 млн, а по всему Петербургу - 6.4 млн. Остальные коэффициенты корреляции похожи для центра и области.\n",
    "Зависимость цены от этажа такая же - на первом этаже самые дешевые квартиры, а самые дорогие квартиры - между первым и последним этажами."
   ]
  },
  {
   "cell_type": "code",
   "execution_count": 60,
   "metadata": {
    "scrolled": true
   },
   "outputs": [
    {
     "data": {
      "image/png": "[encoded data removed]",
      "text/plain": [
       "<Figure size 432x288 with 1 Axes>"
      ]
     },
     "metadata": {
      "needs_background": "light"
     },
     "output_type": "display_data"
    }
   ],
   "source": [
    "plt.hist([real_estate_data['last_price'],saint_p_data['last_price']], bins = 'auto', label=['x', 'y'])\n",
    "plt.hist(saint_p_data['last_price'], bins = 'auto', label=['x', 'y'])\n",
    "plt.show()"
   ]
  },
  {
   "cell_type": "markdown",
   "metadata": {},
   "source": [
    "характерно что стоимость квартиры в конечной выборки в Санкт-Петербурге более смещена влево, без сильный выбросов на графике. Средняя стоимость сильно выше чем в общей выборке."
   ]
  },
  {
   "cell_type": "code",
   "execution_count": 61,
   "metadata": {},
   "outputs": [
    {
     "data": {
      "image/png": "[encoded data removed]",
      "text/plain": [
       "<Figure size 432x288 with 1 Axes>"
      ]
     },
     "metadata": {
      "needs_background": "light"
     },
     "output_type": "display_data"
    }
   ],
   "source": [
    "plt.hist([real_estate_data['total_area'],saint_p_data['total_area']], bins = 'auto', label=['x', 'y'])\n",
    "plt.hist(saint_p_data['total_area'], bins = 'auto', label=['x', 'y'])\n",
    "plt.show()"
   ]
  },
  {
   "cell_type": "markdown",
   "metadata": {},
   "source": [
    "Средняя площадь при этом не сильно отличается."
   ]
  },
  {
   "cell_type": "markdown",
   "metadata": {},
   "source": [
    "Количество комнат - логически не самый хороший показатель, даже с учетом корреляция 0.4 т.к это зависимый параметр от более общего total_area"
   ]
  },
  {
   "cell_type": "markdown",
   "metadata": {},
   "source": [
    "### Шаг 5. Общий вывод\n",
    "\n",
    "Чем ближе недвижимость к центру города, тем она дороже. Однако в пределах центра стоимость отличается незначительно.\n",
    "Факторы, влияющие на стоимость: общая площадь, этаж, кол-во комнат, высота потолков.\n",
    "Первые и последние этажи дешевле чем центральные. Среднее значение продажи квартиры - 169 дней, а медианное - 95.\n",
    "\n",
    "В пределах 8! км от центра - самые дорогие квартиры, этот вывод пожалуй самый главный для меня. Это наверное тема отдельного исследования, но теоретически можно было бы парсить авито,яндекс недвижимость и искать неодоцененные квартиры для покупки, но это так, лучше заняться когда буду уметь работать с Машин лернинг, т.к показателей оевидно больше чем только это\n"
   ]
  },
  {
   "cell_type": "code",
   "execution_count": 68,
   "metadata": {},
   "outputs": [
    {
     "data": {
      "text/plain": [
       "count    1.587000e+03\n",
       "mean     6.800674e+06\n",
       "std      2.335212e+06\n",
       "min      1.686000e+06\n",
       "25%      4.990000e+06\n",
       "50%      6.550000e+06\n",
       "75%      8.500000e+06\n",
       "max      1.200000e+07\n",
       "Name: last_price, dtype: float64"
      ]
     },
     "execution_count": 68,
     "metadata": {},
     "output_type": "execute_result"
    }
   ],
   "source": [
    "#saint_p_data['total_area'].describe()\n",
    "#real_estate_data['total_area'].describe()\n",
    "\n",
    "#saint_p_data['last_price'].describe()\n",
    "#real_estate_data['last_price'].describe()"
   ]
  },
  {
   "cell_type": "markdown",
   "metadata": {},
   "source": [
    "\n",
    "- Средняя площадь от 50-60 метров, независомо от города.\n",
    "- Цена на квартиры заметно выше в Питере, 6.8 против 5 млн\n",
    "- Число комнат не зависит от города\n",
    "- Высота потолков не зависит от города"
   ]
  },
  {
   "cell_type": "markdown",
   "metadata": {},
   "source": [
    "### Чек-лист готовности проекта\n",
    "\n",
    "Поставьте 'x' в выполненных пунктах. Далее нажмите Shift+Enter."
   ]
  },
  {
   "cell_type": "markdown",
   "metadata": {},
   "source": [
    "- [x]  открыт файл\n",
    "- [x]  файлы изучены (выведены первые строки, метод info())\n",
    "- [x]  определены пропущенные значения\n",
    "- [x]  заполнены пропущенные значения\n",
    "- [x]  есть пояснение какие пропущенные значения обнаружены\n",
    "- [x]  изменены типы данных\n",
    "- [x]  есть пояснение в каких столбцах изменены типы и почему\n",
    "- [x]  посчитано и добавлено в таблицу: цена квадратного метра\n",
    "- [x]  посчитано и добавлено в таблицу: день недели, месяц и год публикации объявления\n",
    "- [x]  посчитано и добавлено в таблицу: этаж квартиры; варианты — первый, последний, другой\n",
    "- [x]  посчитано и добавлено в таблицу: соотношение жилой и общей площади, а также отношение площади кухни к общей\n",
    "- [x]  изучены следующие параметры: площадь, цена, число комнат, высота потолков\n",
    "- [x]  построены гистограммы для каждого параметра\n",
    "- [x]  выполнено задание: \"Изучите время продажи квартиры. Постройте гистограмму. Посчитайте среднее и медиану. Опишите, сколько обычно занимает продажа. Когда можно считать, что продажи прошли очень быстро, а когда необычно долго?\"\n",
    "- [x]  выполнено задание: \"Уберите редкие и выбивающиеся значения. Опишите, какие особенности обнаружили.\"\n",
    "- [x]  выполнено задание: \"Какие факторы больше всего влияют на стоимость квартиры? Изучите, зависит ли цена от квадратного метра, числа комнат, этажа (первого или последнего), удалённости от центра. Также изучите зависимость от даты размещения: дня недели, месяца и года. \"Выберите 10 населённых пунктов с наибольшим числом объявлений. Посчитайте среднюю цену квадратного метра в этих населённых пунктах. Выделите населённые пункты с самой высокой и низкой стоимостью жилья. Эти данные можно найти по имени в столбце '*locality_name'*. \"\n",
    "- [x]  выполнено задание: \"Изучите предложения квартир: для каждой квартиры есть информация о расстоянии до центра. Выделите квартиры в Санкт-Петербурге (*'locality_name'*). Ваша задача — выяснить, какая область входит в центр. Создайте столбец с расстоянием до центра в километрах: округлите до целых значений. После этого посчитайте среднюю цену для каждого километра. Постройте график: он должен показывать, как цена зависит от удалённости от центра. Определите границу, где график сильно меняется — это и будет центральная зона. \"\n",
    "- [x]  выполнено задание: \"Выделите сегмент квартир в центре. Проанализируйте эту территорию и изучите следующие параметры: площадь, цена, число комнат, высота потолков. Также выделите факторы, которые влияют на стоимость квартиры (число комнат, этаж, удалённость от центра, дата размещения объявления). Сделайте выводы. Отличаются ли они от общих выводов по всему городу?\"\n",
    "- [x]  в каждом этапе есть выводы\n",
    "- [x]  есть общий вывод"
   ]
  }
 ],
 "metadata": {
  "kernelspec": {
   "display_name": "Python 3",
   "language": "python",
   "name": "python3"
  },
  "language_info": {
   "codemirror_mode": {
    "name": "ipython",
    "version": 3
   },
   "file_extension": ".py",
   "mimetype": "text/x-python",
   "name": "python",
   "nbconvert_exporter": "python",
   "pygments_lexer": "ipython3",
   "version": "3.7.6"
  },
  "pycharm": {
   "stem_cell": {
    "cell_type": "raw",
    "metadata": {
     "collapsed": false
    },
    "source": []
   }
  }
 },
 "nbformat": 4,
 "nbformat_minor": 2
}
